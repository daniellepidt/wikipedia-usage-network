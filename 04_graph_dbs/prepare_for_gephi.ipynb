{
 "cells": [
  {
   "cell_type": "markdown",
   "metadata": {},
   "source": [
    "This file contains the work process we performed in order to create the data to be used with NetoworkX & Gephi"
   ]
  },
  {
   "cell_type": "code",
   "execution_count": 1,
   "metadata": {},
   "outputs": [],
   "source": [
    "import pandas as pd"
   ]
  },
  {
   "cell_type": "markdown",
   "metadata": {},
   "source": [
    "Creating the base DF:"
   ]
  },
  {
   "cell_type": "code",
   "execution_count": 2,
   "metadata": {},
   "outputs": [],
   "source": [
    "file_path = '../03_clean_dbs/clean_relevant_db.csv'\n",
    "clean_df = pd.read_csv(file_path, index_col=0)"
   ]
  },
  {
   "cell_type": "markdown",
   "metadata": {},
   "source": [
    "Create the Nodes dataset from the clean DF:"
   ]
  },
  {
   "cell_type": "code",
   "execution_count": 34,
   "metadata": {},
   "outputs": [
    {
     "data": {
      "text/html": [
       "<div>\n",
       "<style scoped>\n",
       "    .dataframe tbody tr th:only-of-type {\n",
       "        vertical-align: middle;\n",
       "    }\n",
       "\n",
       "    .dataframe tbody tr th {\n",
       "        vertical-align: top;\n",
       "    }\n",
       "\n",
       "    .dataframe thead th {\n",
       "        text-align: right;\n",
       "    }\n",
       "</style>\n",
       "<table border=\"1\" class=\"dataframe\">\n",
       "  <thead>\n",
       "    <tr style=\"text-align: right;\">\n",
       "      <th></th>\n",
       "      <th>0</th>\n",
       "    </tr>\n",
       "  </thead>\n",
       "  <tbody>\n",
       "    <tr>\n",
       "      <th>0</th>\n",
       "      <td>Ukrainia</td>\n",
       "    </tr>\n",
       "    <tr>\n",
       "      <th>1</th>\n",
       "      <td>Ukraine</td>\n",
       "    </tr>\n",
       "    <tr>\n",
       "      <th>2</th>\n",
       "      <td>War in Donbass</td>\n",
       "    </tr>\n",
       "    <tr>\n",
       "      <th>3</th>\n",
       "      <td>RussiaâUkraine relations</td>\n",
       "    </tr>\n",
       "    <tr>\n",
       "      <th>4</th>\n",
       "      <td>Ukrainian language</td>\n",
       "    </tr>\n",
       "    <tr>\n",
       "      <th>...</th>\n",
       "      <td>...</td>\n",
       "    </tr>\n",
       "    <tr>\n",
       "      <th>7599</th>\n",
       "      <td>High Commissioner</td>\n",
       "    </tr>\n",
       "    <tr>\n",
       "      <th>7600</th>\n",
       "      <td>Zurich</td>\n",
       "    </tr>\n",
       "    <tr>\n",
       "      <th>7601</th>\n",
       "      <td>Burundi</td>\n",
       "    </tr>\n",
       "    <tr>\n",
       "      <th>7602</th>\n",
       "      <td>MiÄdzyzdroje</td>\n",
       "    </tr>\n",
       "    <tr>\n",
       "      <th>7603</th>\n",
       "      <td>Wolin</td>\n",
       "    </tr>\n",
       "  </tbody>\n",
       "</table>\n",
       "<p>7604 rows × 1 columns</p>\n",
       "</div>"
      ],
      "text/plain": [
       "                               0\n",
       "0                       Ukrainia\n",
       "1                        Ukraine\n",
       "2                 War in Donbass\n",
       "3     RussiaâUkraine relations\n",
       "4             Ukrainian language\n",
       "...                          ...\n",
       "7599           High Commissioner\n",
       "7600                      Zurich\n",
       "7601                     Burundi\n",
       "7602               MiÄdzyzdroje\n",
       "7603                       Wolin\n",
       "\n",
       "[7604 rows x 1 columns]"
      ]
     },
     "execution_count": 34,
     "metadata": {},
     "output_type": "execute_result"
    }
   ],
   "source": [
    "# First, we will create the nodes table\n",
    "ser_values = clean_df.iloc[:, 0]\n",
    "ser_pointers_old = clean_df.iloc[:, 3]\n",
    "# Cleaning ser_pointers because it contains strings with the nodes we want\n",
    "temp_lst = []\n",
    "for row in ser_pointers_old:\n",
    "    if type(row) != float:\n",
    "        temp_split = row.split(\", \")\n",
    "        for i in temp_split:\n",
    "            temp_lst.append(i)\n",
    "ser_pointers = pd.Series(temp_lst)\n",
    "# Merging the two sets for one nodes set\n",
    "ser_combined = ser_values.append(ser_pointers)\n",
    "ser_combined = ser_combined.unique()\n",
    "#set_nodes = set(ser_combined)\n",
    "nodes_df = pd.DataFrame(ser_combined)\n",
    "nodes_df\n"
   ]
  },
  {
   "cell_type": "markdown",
   "metadata": {},
   "source": [
    "Create the Edges dataset from the clean DF:"
   ]
  },
  {
   "cell_type": "code",
   "execution_count": 35,
   "metadata": {},
   "outputs": [
    {
     "data": {
      "text/html": [
       "<div>\n",
       "<style scoped>\n",
       "    .dataframe tbody tr th:only-of-type {\n",
       "        vertical-align: middle;\n",
       "    }\n",
       "\n",
       "    .dataframe tbody tr th {\n",
       "        vertical-align: top;\n",
       "    }\n",
       "\n",
       "    .dataframe thead th {\n",
       "        text-align: right;\n",
       "    }\n",
       "</style>\n",
       "<table border=\"1\" class=\"dataframe\">\n",
       "  <thead>\n",
       "    <tr style=\"text-align: right;\">\n",
       "      <th></th>\n",
       "      <th>Source</th>\n",
       "      <th>Target</th>\n",
       "    </tr>\n",
       "  </thead>\n",
       "  <tbody>\n",
       "    <tr>\n",
       "      <th>0</th>\n",
       "      <td>Ukrainia</td>\n",
       "      <td>Architecture of Poland</td>\n",
       "    </tr>\n",
       "    <tr>\n",
       "      <th>1</th>\n",
       "      <td>Ukrainia</td>\n",
       "      <td>Great Purge</td>\n",
       "    </tr>\n",
       "    <tr>\n",
       "      <th>2</th>\n",
       "      <td>Ukrainia</td>\n",
       "      <td>Mykola Khvylovy</td>\n",
       "    </tr>\n",
       "    <tr>\n",
       "      <th>3</th>\n",
       "      <td>Ukrainia</td>\n",
       "      <td>Romanians</td>\n",
       "    </tr>\n",
       "    <tr>\n",
       "      <th>4</th>\n",
       "      <td>Ukrainia</td>\n",
       "      <td>Belarusians</td>\n",
       "    </tr>\n",
       "    <tr>\n",
       "      <th>...</th>\n",
       "      <td>...</td>\n",
       "      <td>...</td>\n",
       "    </tr>\n",
       "    <tr>\n",
       "      <th>197410</th>\n",
       "      <td>Wolin</td>\n",
       "      <td>Volhynia</td>\n",
       "    </tr>\n",
       "    <tr>\n",
       "      <th>197411</th>\n",
       "      <td>Wolin</td>\n",
       "      <td>Poland</td>\n",
       "    </tr>\n",
       "    <tr>\n",
       "      <th>197412</th>\n",
       "      <td>Wolin</td>\n",
       "      <td>Mead in Poland</td>\n",
       "    </tr>\n",
       "    <tr>\n",
       "      <th>197413</th>\n",
       "      <td>Wolin</td>\n",
       "      <td>Forest</td>\n",
       "    </tr>\n",
       "    <tr>\n",
       "      <th>197414</th>\n",
       "      <td>Wolin</td>\n",
       "      <td>German language</td>\n",
       "    </tr>\n",
       "  </tbody>\n",
       "</table>\n",
       "<p>197415 rows × 2 columns</p>\n",
       "</div>"
      ],
      "text/plain": [
       "          Source                  Target\n",
       "0       Ukrainia  Architecture of Poland\n",
       "1       Ukrainia             Great Purge\n",
       "2       Ukrainia         Mykola Khvylovy\n",
       "3       Ukrainia               Romanians\n",
       "4       Ukrainia             Belarusians\n",
       "...          ...                     ...\n",
       "197410     Wolin                Volhynia\n",
       "197411     Wolin                  Poland\n",
       "197412     Wolin          Mead in Poland\n",
       "197413     Wolin                  Forest\n",
       "197414     Wolin         German language\n",
       "\n",
       "[197415 rows x 2 columns]"
      ]
     },
     "execution_count": 35,
     "metadata": {},
     "output_type": "execute_result"
    }
   ],
   "source": [
    "edges_dict = {\"Source\": [], \"Target\": []}\n",
    "for i in range(len(ser_pointers_old)):\n",
    "    if type(ser_pointers_old[i]) != float:\n",
    "        temp_split = ser_pointers_old[i].split(\", \")\n",
    "        for j in temp_split:\n",
    "            edges_dict[\"Source\"].append(ser_values[i])\n",
    "            edges_dict[\"Target\"].append(j)\n",
    "edges_df = pd.DataFrame(edges_dict)\n",
    "edges_df\n"
   ]
  },
  {
   "cell_type": "markdown",
   "metadata": {},
   "source": [
    "Export both datasets into CSVs to be used inside of Gephi:"
   ]
  },
  {
   "cell_type": "code",
   "execution_count": 36,
   "metadata": {},
   "outputs": [],
   "source": [
    "edges_df.to_csv('edges.csv', index=False)\n",
    "nodes_df.to_csv('nodes.csv', index=False)"
   ]
  }
 ],
 "metadata": {
  "interpreter": {
   "hash": "09399ab798f0a64b5551add0194a95187620888c6688560e349fb88e236c16fb"
  },
  "kernelspec": {
   "display_name": "Python 3.7.3 ('venv': venv)",
   "language": "python",
   "name": "python3"
  },
  "language_info": {
   "codemirror_mode": {
    "name": "ipython",
    "version": 3
   },
   "file_extension": ".py",
   "mimetype": "text/x-python",
   "name": "python",
   "nbconvert_exporter": "python",
   "pygments_lexer": "ipython3",
   "version": "3.7.3"
  },
  "orig_nbformat": 4
 },
 "nbformat": 4,
 "nbformat_minor": 2
}
