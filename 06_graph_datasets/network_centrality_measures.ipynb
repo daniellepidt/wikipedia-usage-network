{
 "cells": [
  {
   "cell_type": "markdown",
   "metadata": {},
   "source": [
    "## Networks Centrality Measures\n",
    "In this section, we want to answer our research quenstion by measuring the different centrality measures and understanding the meaning of the results."
   ]
  },
  {
   "cell_type": "markdown",
   "metadata": {},
   "source": [
    "### Imports"
   ]
  },
  {
   "cell_type": "code",
   "execution_count": 1,
   "metadata": {},
   "outputs": [],
   "source": [
    "import networkx as nx\n",
    "import matplotlib.pylab as plt\n",
    "import numpy as np\n",
    "import pandas as pd\n",
    "import powerlaw\n",
    "from statistics import mean"
   ]
  },
  {
   "cell_type": "markdown",
   "metadata": {},
   "source": [
    "### Defining graphs"
   ]
  },
  {
   "cell_type": "code",
   "execution_count": 2,
   "metadata": {},
   "outputs": [],
   "source": [
    "# Importing the regular graph, for research question no. 1\n",
    "basic_edges_df = pd.read_csv(\"basic_graph_edges.csv\")\n",
    "G = nx.from_pandas_edgelist(basic_edges_df,\"Source\",\"Target\",create_using=nx.DiGraph)\n",
    "# Importing the graphs of the events, for research question no. 2\n",
    "G_events={\"A\":[],\"B\":[],\"C\":[]}\n",
    "before2018_edges_df = pd.read_csv(\"20180401-20180501_edges.csv\")\n",
    "G_events[\"A\"].append(nx.from_pandas_edgelist(before2018_edges_df,\"Source\",\"Target\",create_using=nx.DiGraph))\n",
    "after2018_edges_df = pd.read_csv(\"20180501-20180601_edges.csv\")\n",
    "G_events[\"A\"].append(nx.from_pandas_edgelist(after2018_edges_df,\"Source\",\"Target\",create_using=nx.DiGraph))\n",
    "before2019_edges_df = pd.read_csv(\"20190901-20191001_edges.csv\")\n",
    "G_events[\"B\"].append(nx.from_pandas_edgelist(before2019_edges_df,\"Source\",\"Target\",create_using=nx.DiGraph))\n",
    "after2019_edges_df = pd.read_csv(\"20191001-20191101_edges.csv\")\n",
    "G_events[\"B\"].append(nx.from_pandas_edgelist(after2019_edges_df,\"Source\",\"Target\",create_using=nx.DiGraph))\n",
    "before2022_edges_df = pd.read_csv(\"20220101-20220201_edges.csv\")\n",
    "G_events[\"C\"].append(nx.from_pandas_edgelist(before2022_edges_df,\"Source\",\"Target\",create_using=nx.DiGraph))\n",
    "after2022_edges_df = pd.read_csv(\"20220201-20220301_edges.csv\")\n",
    "G_events[\"C\"].append(nx.from_pandas_edgelist(after2022_edges_df,\"Source\",\"Target\",create_using=nx.DiGraph))"
   ]
  },
  {
   "cell_type": "markdown",
   "metadata": {},
   "source": [
    "### The functions to calculate the measures:"
   ]
  },
  {
   "cell_type": "markdown",
   "metadata": {},
   "source": [
    "#### Getting Top 5 Maximum Values"
   ]
  },
  {
   "cell_type": "code",
   "execution_count": 3,
   "metadata": {},
   "outputs": [],
   "source": [
    "def top_five(A):\n",
    "    return sorted(A, key=A.get, reverse=True)[:5]"
   ]
  },
  {
   "cell_type": "markdown",
   "metadata": {},
   "source": [
    "#### Degree Centrality"
   ]
  },
  {
   "cell_type": "code",
   "execution_count": 4,
   "metadata": {},
   "outputs": [],
   "source": [
    "def degree_centrality(G):\n",
    "    return top_five(nx.degree_centrality(G))"
   ]
  },
  {
   "cell_type": "markdown",
   "metadata": {},
   "source": [
    "#### In Betweenness\n",
    "Note: Because \"nx.betweenness_centrality(G)\" function is slow, we will use an approximate algorithm."
   ]
  },
  {
   "cell_type": "code",
   "execution_count": 22,
   "metadata": {},
   "outputs": [],
   "source": [
    "def betweenness(G):\n",
    "    return top_five(nx.betweenness_centrality(G))"
   ]
  },
  {
   "cell_type": "markdown",
   "metadata": {},
   "source": [
    "#### In-Degree Centrality"
   ]
  },
  {
   "cell_type": "code",
   "execution_count": 6,
   "metadata": {},
   "outputs": [],
   "source": [
    "def in_degree (G):\n",
    "    return top_five(nx.in_degree_centrality(G))"
   ]
  },
  {
   "cell_type": "markdown",
   "metadata": {},
   "source": [
    "#### Out-Degree Centrality"
   ]
  },
  {
   "cell_type": "code",
   "execution_count": 7,
   "metadata": {},
   "outputs": [],
   "source": [
    "def out_degree(G):\n",
    "    return top_five(nx.out_degree_centrality(G))"
   ]
  },
  {
   "cell_type": "markdown",
   "metadata": {},
   "source": [
    "#### Closeness"
   ]
  },
  {
   "cell_type": "code",
   "execution_count": 8,
   "metadata": {},
   "outputs": [],
   "source": [
    "def closeness(G):\n",
    "    return top_five(nx.closeness_centrality(G))"
   ]
  },
  {
   "cell_type": "markdown",
   "metadata": {},
   "source": [
    "### The basic network"
   ]
  },
  {
   "cell_type": "markdown",
   "metadata": {},
   "source": [
    "#### Degree Centrelity"
   ]
  },
  {
   "cell_type": "code",
   "execution_count": 9,
   "metadata": {},
   "outputs": [
    {
     "data": {
      "text/plain": [
       "['Ukraine', 'Russian language', 'Poland', 'Ukrainian language', 'World War I']"
      ]
     },
     "execution_count": 9,
     "metadata": {},
     "output_type": "execute_result"
    }
   ],
   "source": [
    "degree_centrality(G)"
   ]
  },
  {
   "cell_type": "markdown",
   "metadata": {},
   "source": [
    "#### In Betweeness"
   ]
  },
  {
   "cell_type": "code",
   "execution_count": 23,
   "metadata": {},
   "outputs": [
    {
     "data": {
      "text/plain": [
       "['Ukraine', 'Poland', 'Vladimir Putin', 'Russian language', 'Russians']"
      ]
     },
     "execution_count": 23,
     "metadata": {},
     "output_type": "execute_result"
    }
   ],
   "source": [
    "betweenness(G)"
   ]
  },
  {
   "cell_type": "markdown",
   "metadata": {},
   "source": [
    "#### In-Degree Centrality"
   ]
  },
  {
   "cell_type": "code",
   "execution_count": 10,
   "metadata": {},
   "outputs": [
    {
     "data": {
      "text/plain": [
       "['Russian language',\n",
       " 'Ukraine',\n",
       " 'Ukrainian language',\n",
       " 'World War I',\n",
       " 'United States']"
      ]
     },
     "execution_count": 10,
     "metadata": {},
     "output_type": "execute_result"
    }
   ],
   "source": [
    "in_degree(G)"
   ]
  },
  {
   "cell_type": "markdown",
   "metadata": {},
   "source": [
    "#### Out-Degree Centrality"
   ]
  },
  {
   "cell_type": "code",
   "execution_count": 11,
   "metadata": {},
   "outputs": [
    {
     "data": {
      "text/plain": [
       "['Russian federation', 'Poland', 'Ukraine', 'Ukrainia', 'Soviet']"
      ]
     },
     "execution_count": 11,
     "metadata": {},
     "output_type": "execute_result"
    }
   ],
   "source": [
    "out_degree(G)"
   ]
  },
  {
   "cell_type": "markdown",
   "metadata": {},
   "source": [
    "#### Closeness"
   ]
  },
  {
   "cell_type": "code",
   "execution_count": 12,
   "metadata": {},
   "outputs": [
    {
     "data": {
      "text/plain": [
       "['Russian language', 'Ukraine', 'United States', 'World War I', 'Poland']"
      ]
     },
     "execution_count": 12,
     "metadata": {},
     "output_type": "execute_result"
    }
   ],
   "source": [
    "closeness(G)"
   ]
  },
  {
   "cell_type": "markdown",
   "metadata": {},
   "source": [
    "### The Special Events Network"
   ]
  },
  {
   "cell_type": "markdown",
   "metadata": {},
   "source": [
    "#### Degree Centrality"
   ]
  },
  {
   "cell_type": "code",
   "execution_count": 13,
   "metadata": {},
   "outputs": [
    {
     "name": "stdout",
     "output_type": "stream",
     "text": [
      "The nodes with the most centrality before event A are: \n",
      "[1, 515, 109, 1766, 4]\n",
      "The nodes with the most centrality after event A  are: \n",
      "[1, 515, 109, 1766, 4]\n",
      "\n",
      "The nodes with the most centrality before event B are: \n",
      "[1, 515, 109, 1766, 4]\n",
      "The nodes with the most centrality after event B  are: \n",
      "[1, 515, 109, 1766, 4]\n",
      "\n",
      "The nodes with the most centrality before event C are: \n",
      "[1, 515, 109, 1766, 4]\n",
      "The nodes with the most centrality after event C  are: \n",
      "[1, 515, 109, 1766, 4]\n",
      "\n"
     ]
    }
   ],
   "source": [
    "for i in G_events:\n",
    "    str_to_print = \"The nodes with the most centrality before event \" + i + \" are: \"\n",
    "    print(str_to_print)\n",
    "    print(degree_centrality(G_events[i][0]))\n",
    "    str_to_print = \"The nodes with the most centrality after event \" + i + \"  are: \"\n",
    "    print(str_to_print)\n",
    "    print(degree_centrality(G_events[i][1]))\n",
    "    print()\n"
   ]
  },
  {
   "cell_type": "markdown",
   "metadata": {},
   "source": [
    "note: 1 represents Ukraine"
   ]
  },
  {
   "cell_type": "markdown",
   "metadata": {},
   "source": [
    "#### In Betweeness"
   ]
  },
  {
   "cell_type": "code",
   "execution_count": 24,
   "metadata": {},
   "outputs": [
    {
     "name": "stdout",
     "output_type": "stream",
     "text": [
      "The nodes with the most betweenness centrality before event A are: [1, 109, 1324, 1766, 515]\n",
      "The nodes with the most betweenness centrality after event A are: [1, 109, 1324, 1766, 515]\n",
      "\n",
      "The nodes with the most betweenness centrality before event B are: [1, 109, 1324, 1766, 515]\n",
      "The nodes with the most betweenness centrality after event B are: [1, 109, 1324, 1766, 515]\n",
      "\n",
      "The nodes with the most betweenness centrality before event C are: [1, 109, 1324, 1766, 515]\n",
      "The nodes with the most betweenness centrality after event C are: [1, 109, 1324, 1766, 515]\n",
      "\n"
     ]
    }
   ],
   "source": [
    "for i in G_events:\n",
    "    str_to_print = \"The nodes with the most betweenness centrality before event \" + i + \" are: \"\n",
    "    print(str_to_print + str(betweenness(G_events[i][0])))\n",
    "    str_to_print = \"The nodes with the most betweenness centrality after event \" + i + \" are: \"\n",
    "    print(str_to_print + str(betweenness(G_events[i][1])))\n",
    "    print()"
   ]
  },
  {
   "cell_type": "markdown",
   "metadata": {},
   "source": [
    "#### In-Degree Centrality"
   ]
  },
  {
   "cell_type": "code",
   "execution_count": 15,
   "metadata": {},
   "outputs": [
    {
     "name": "stdout",
     "output_type": "stream",
     "text": [
      "The nodes with the most in-degree centrality before event A are: [1, 515, 4, 1766, 109]\n",
      "The nodes with the most in-degree centrality after event A are: [1, 515, 4, 1766, 109]\n",
      "\n",
      "The nodes with the most in-degree centrality before event B are: [1, 515, 4, 1766, 109]\n",
      "The nodes with the most in-degree centrality after event B are: [1, 515, 4, 1766, 109]\n",
      "\n",
      "The nodes with the most in-degree centrality before event C are: [1, 515, 4, 1766, 109]\n",
      "The nodes with the most in-degree centrality after event C are: [1, 515, 4, 1766, 109]\n",
      "\n"
     ]
    }
   ],
   "source": [
    "for i in G_events:\n",
    "    str_to_print = \"The nodes with the most in-degree centrality before event \" + i + \" are: \"\n",
    "    print(str_to_print + str(in_degree(G_events[i][0])))\n",
    "    str_to_print = \"The nodes with the most in-degree centrality after event \" + i + \" are: \"\n",
    "    print(str_to_print + str(in_degree(G_events[i][1])))\n",
    "    print()"
   ]
  },
  {
   "cell_type": "markdown",
   "metadata": {},
   "source": [
    "#### Out-Degree Centrality"
   ]
  },
  {
   "cell_type": "code",
   "execution_count": 16,
   "metadata": {},
   "outputs": [
    {
     "name": "stdout",
     "output_type": "stream",
     "text": [
      "The nodes with the most out-degree centrality before event A are: [563, 1, 0, 109, 513]\n",
      "The nodes with the most out-degree centrality after event A are: [563, 1, 0, 109, 513]\n",
      "\n",
      "The nodes with the most out-degree centrality before event B are: [563, 1, 0, 109, 513]\n",
      "The nodes with the most out-degree centrality after event B are: [563, 1, 0, 109, 513]\n",
      "\n",
      "The nodes with the most out-degree centrality before event C are: [563, 1, 0, 109, 513]\n",
      "The nodes with the most out-degree centrality after event C are: [563, 1, 0, 109, 513]\n",
      "\n"
     ]
    }
   ],
   "source": [
    "for i in G_events:\n",
    "    str_to_print = \"The nodes with the most out-degree centrality before event \" + i + \" are: \"\n",
    "    print(str_to_print + str(out_degree(G_events[i][0])))\n",
    "    str_to_print = \"The nodes with the most out-degree centrality after event \" + i + \" are: \"\n",
    "    print(str_to_print + str(out_degree(G_events[i][1])))\n",
    "    print()"
   ]
  },
  {
   "cell_type": "markdown",
   "metadata": {},
   "source": [
    "Note: 563 is Russian Federaion"
   ]
  },
  {
   "cell_type": "markdown",
   "metadata": {},
   "source": [
    "#### Closeness"
   ]
  },
  {
   "cell_type": "code",
   "execution_count": 18,
   "metadata": {},
   "outputs": [
    {
     "name": "stdout",
     "output_type": "stream",
     "text": [
      "The nodes with the most closeness centrality before event A are: [1, 515, 1766, 4, 408]\n",
      "The nodes with the most closeness centrality after event A are: [1, 515, 1766, 4, 408]\n",
      "\n",
      "The nodes with the most closeness centrality before event B are: [1, 515, 1766, 4, 408]\n",
      "The nodes with the most closeness centrality after event B are: [1, 515, 1766, 4, 408]\n",
      "\n",
      "The nodes with the most closeness centrality before event C are: [1, 515, 1766, 4, 408]\n",
      "The nodes with the most closeness centrality after event C are: [1, 515, 1766, 4, 408]\n",
      "\n"
     ]
    }
   ],
   "source": [
    "for i in G_events:\n",
    "    str_to_print = \"The nodes with the most closeness centrality before event \" + i + \" are: \"\n",
    "    print(str_to_print + str(closeness(G_events[i][0])))\n",
    "    str_to_print = \"The nodes with the most closeness centrality after event \" + i + \" are: \"\n",
    "    print(str_to_print + str(closeness(G_events[i][1])))\n",
    "    print()"
   ]
  }
 ],
 "metadata": {
  "interpreter": {
   "hash": "b26690d14dceb3ee9ac08a4299ad2a440fa2d4d0efcf5f4c46c4241048c04736"
  },
  "kernelspec": {
   "display_name": "Python 3.7.9 ('venv': venv)",
   "language": "python",
   "name": "python3"
  },
  "language_info": {
   "codemirror_mode": {
    "name": "ipython",
    "version": 3
   },
   "file_extension": ".py",
   "mimetype": "text/x-python",
   "name": "python",
   "nbconvert_exporter": "python",
   "pygments_lexer": "ipython3",
   "version": "3.7.9"
  },
  "orig_nbformat": 4
 },
 "nbformat": 4,
 "nbformat_minor": 2
}
