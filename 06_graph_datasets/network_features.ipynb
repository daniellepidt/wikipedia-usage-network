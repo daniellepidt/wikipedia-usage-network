{
 "cells": [
  {
   "cell_type": "markdown",
   "metadata": {},
   "source": [
    "## Analysis of the network\n",
    "Using networksx"
   ]
  },
  {
   "cell_type": "markdown",
   "metadata": {},
   "source": [
    "### Imports"
   ]
  },
  {
   "cell_type": "code",
   "execution_count": 1,
   "metadata": {},
   "outputs": [],
   "source": [
    "import networkx as nx\n",
    "import matplotlib.pylab as plt\n",
    "import numpy as np\n",
    "import pandas as pd\n",
    "import powerlaw\n",
    "from statistics import mean"
   ]
  },
  {
   "cell_type": "markdown",
   "metadata": {},
   "source": [
    "### Defining G graph"
   ]
  },
  {
   "cell_type": "code",
   "execution_count": 2,
   "metadata": {},
   "outputs": [],
   "source": [
    "# Importing the regular graph, for research question no. 1\n",
    "basic_edges_df = pd.read_csv(\"basic_graph_edges.csv\")\n",
    "G = nx.from_pandas_edgelist(basic_edges_df,\"Source\",\"Target\",create_using=nx.DiGraph)\n",
    "# Importing the graphs of the events, for research question no. 2\n",
    "G_events={\"A\":[],\"B\":[],\"C\":[]}\n",
    "before2018_edges_df = pd.read_csv(\"20180401-20180501_edges_full.csv\")\n",
    "G_events[\"A\"].append(nx.from_pandas_edgelist(before2018_edges_df,\"Source\",\"Target\",create_using=nx.DiGraph))\n",
    "after2018_edges_df = pd.read_csv(\"20180501-20180601_edges_full.csv\")\n",
    "G_events[\"A\"].append(nx.from_pandas_edgelist(after2018_edges_df,\"Source\",\"Target\",create_using=nx.DiGraph))\n",
    "before2019_edges_df = pd.read_csv(\"20190901-20191001_edges_full.csv\")\n",
    "G_events[\"B\"].append(nx.from_pandas_edgelist(before2019_edges_df,\"Source\",\"Target\",create_using=nx.DiGraph))\n",
    "after2019_edges_df = pd.read_csv(\"20191001-20191101_edges_full.csv\")\n",
    "G_events[\"B\"].append(nx.from_pandas_edgelist(after2019_edges_df,\"Source\",\"Target\",create_using=nx.DiGraph))\n",
    "before2022_edges_df = pd.read_csv(\"20220101-20220201_edges_full.csv\")\n",
    "G_events[\"C\"].append(nx.from_pandas_edgelist(before2022_edges_df,\"Source\",\"Target\",create_using=nx.DiGraph))\n",
    "after2022_edges_df = pd.read_csv(\"20220201-20220301_edges_full.csv\")\n",
    "G_events[\"C\"].append(nx.from_pandas_edgelist(after2022_edges_df,\"Source\",\"Target\",create_using=nx.DiGraph))"
   ]
  },
  {
   "cell_type": "markdown",
   "metadata": {},
   "source": [
    "### Information about the graph"
   ]
  },
  {
   "cell_type": "code",
   "execution_count": 3,
   "metadata": {},
   "outputs": [
    {
     "name": "stdout",
     "output_type": "stream",
     "text": [
      "Basic network:\n",
      "DiGraph with 7583 nodes and 197415 edges\n",
      "\n",
      "Before special events networks:\n",
      "DiGraph with 7313 nodes and 190040 edges\n",
      "DiGraph with 7419 nodes and 192722 edges\n",
      "DiGraph with 7549 nodes and 195616 edges\n",
      "\n",
      "After special events networks:\n",
      "DiGraph with 7316 nodes and 190096 edges\n",
      "DiGraph with 7425 nodes and 192802 edges\n",
      "DiGraph with 7561 nodes and 196285 edges\n"
     ]
    }
   ],
   "source": [
    "def info(G):\n",
    "    print(nx.info(G))\n",
    "print(\"Basic network:\")\n",
    "info(G)\n",
    "print(\"\\nBefore special events networks:\")\n",
    "for i in G_events:\n",
    "    info(G_events[i][0])\n",
    "print(\"\\nAfter special events networks:\")\n",
    "for i in G_events:\n",
    "    info(G_events[i][1])"
   ]
  },
  {
   "cell_type": "markdown",
   "metadata": {},
   "source": [
    "### Diameter"
   ]
  },
  {
   "cell_type": "code",
   "execution_count": 4,
   "metadata": {},
   "outputs": [
    {
     "name": "stdout",
     "output_type": "stream",
     "text": [
      "Basic network diameter: 9\n",
      "\n",
      "Before event A network diameter: 9\n",
      "After event A network diameter: 9\n",
      "\n",
      "Before event B network diameter: 9\n",
      "After event B network diameter: 9\n",
      "\n",
      "Before event C network diameter: 9\n",
      "After event C network diameter: 9\n"
     ]
    }
   ],
   "source": [
    "def calc_diameter(G):\n",
    "    return max([max(j.values()) for (i,j) in nx.shortest_path_length(G)])\n",
    "print(\"Basic network diameter: \" +str(calc_diameter(G)))\n",
    "for i in G_events:\n",
    "    str_to_print= \"\\nBefore event \" + i +\" network diameter: \"\n",
    "    print(str_to_print + str(calc_diameter(G_events[i][0])))\n",
    "    str_to_print = \"After event \" + i + \" network diameter: \"\n",
    "    print(str_to_print + str(calc_diameter(G_events[i][1])))"
   ]
  },
  {
   "cell_type": "markdown",
   "metadata": {},
   "source": [
    "### Clustering Coefficient"
   ]
  },
  {
   "cell_type": "code",
   "execution_count": 5,
   "metadata": {},
   "outputs": [
    {
     "name": "stdout",
     "output_type": "stream",
     "text": [
      "Clustering Coefficient of the basic network (first 7): \n",
      "[0.024546015875495646, 0.17867867867867868, 0.12852112676056338, 0.2, 0.0777474816329622, 0.1408199643493761, 0.09761904761904762]\n",
      "\n",
      "Before event A networks' clustering coefficient (first 7): \n",
      "[0.09974563953488372, 0.09768140832975526, 0.21306818181818182, 0.14789915966386555, 0.18095238095238095, 0.20212765957446807, 0.17234848484848486]\n",
      "After event A networks' clustering coefficient (first 7): \n",
      "[0.09974563953488372, 0.09768140832975526, 0.21306818181818182, 0.14789915966386555, 0.18095238095238095, 0.20212765957446807, 0.17234848484848486]\n",
      "\n",
      "Before event B networks' clustering coefficient (first 7): \n",
      "[0.09974563953488372, 0.09768140832975526, 0.21306818181818182, 0.14789915966386555, 0.18095238095238095, 0.20212765957446807, 0.17234848484848486]\n",
      "After event B networks' clustering coefficient (first 7): \n",
      "[0.09974563953488372, 0.09768140832975526, 0.21306818181818182, 0.14789915966386555, 0.18095238095238095, 0.20212765957446807, 0.17234848484848486]\n",
      "\n",
      "Before event C networks' clustering coefficient (first 7): \n",
      "[0.09594882729211088, 0.09483282674772037, 0.21306818181818182, 0.14789915966386555, 0.17965367965367965, 0.20212765957446807, 0.17234848484848486]\n",
      "After event C networks' clustering coefficient (first 7): \n",
      "[0.09594882729211088, 0.09483282674772037, 0.21306818181818182, 0.14789915966386555, 0.17965367965367965, 0.20212765957446807, 0.17234848484848486]\n"
     ]
    }
   ],
   "source": [
    "def calc_c(G):\n",
    "    clustering_coefficient = []\n",
    "    for node in G.nodes():\n",
    "        neighbours=[n for n in nx.neighbors(G,node)]\n",
    "        n_neighbors=len(neighbours)\n",
    "        n_links=0\n",
    "        if n_neighbors>1:\n",
    "            for node1 in neighbours:\n",
    "                for node2 in neighbours:\n",
    "                    if G.has_edge(node1,node2):\n",
    "                        n_links+=1\n",
    "            n_links/=2 #because n_links is calculated twice\n",
    "            clustering_coefficient.append(n_links/(0.5*n_neighbors*(n_neighbors-1)))\n",
    "        else:\n",
    "            clustering_coefficient.append(0)\n",
    "    return clustering_coefficient\n",
    "C_G = calc_c(G)\n",
    "print(\"Clustering Coefficient of the basic network (first 7): \")\n",
    "print(C_G[:7])\n",
    "C_G_events = {\"A\":[],\"B\":[],\"C\":[]}\n",
    "for i in G_events:\n",
    "    C_G_events[i].append(calc_c(G_events[i][0]))\n",
    "    C_G_events[i].append(calc_c(G_events[i][1]))\n",
    "for i in G_events:\n",
    "    str_to_print= \"\\nBefore event \" + i +\" networks' clustering coefficient (first 7): \"\n",
    "    print(str_to_print)\n",
    "    print(C_G_events[i][0][:7])\n",
    "    str_to_print = \"After event \" + i + \" networks' clustering coefficient (first 7): \"\n",
    "    print(str_to_print)\n",
    "    print(C_G_events[i][0][:7])"
   ]
  },
  {
   "cell_type": "markdown",
   "metadata": {},
   "source": [
    "calculating the average clustering coefficient"
   ]
  },
  {
   "cell_type": "code",
   "execution_count": 6,
   "metadata": {},
   "outputs": [
    {
     "name": "stdout",
     "output_type": "stream",
     "text": [
      "Basic network average clustering coefficient: 0.21148912609797446\n",
      "\n",
      "The average clustering coefficient of before the event A network: 0.3034507955831256\n",
      "The average clustering coefficient of after the event A network: 0.3034507955831256\n",
      "\n",
      "The average clustering coefficient of before the event B network: 0.30416780638543456\n",
      "The average clustering coefficient of after the event B network: 0.30416780638543456\n",
      "\n",
      "The average clustering coefficient of before the event C network: 0.3034774956398211\n",
      "The average clustering coefficient of after the event C network: 0.30305230663357124\n"
     ]
    }
   ],
   "source": [
    "def c_avg(clustering_coefficient):\n",
    "    return mean(clustering_coefficient)\n",
    "print(\"Basic network average clustering coefficient: \" +str(c_avg(C_G)))\n",
    "for i in C_G_events:\n",
    "    str_to_print = \"\\nThe average clustering coefficient of before the event \" + i + \" network: \"\n",
    "    print(str_to_print + str(c_avg(C_G_events[i][0])))\n",
    "    str_to_print = \"The average clustering coefficient of after the event \" + i + \" network: \"\n",
    "    print(str_to_print + str(c_avg(C_G_events[i][1])))"
   ]
  },
  {
   "cell_type": "markdown",
   "metadata": {},
   "source": [
    "### Average Shortest Path Length\n",
    "waiting for forum"
   ]
  },
  {
   "cell_type": "code",
   "execution_count": null,
   "metadata": {},
   "outputs": [],
   "source": [
    "average_shortest_path_length = nx.average_shortest_path_length(G)"
   ]
  },
  {
   "cell_type": "markdown",
   "metadata": {},
   "source": [
    "### Degree Histogram\n",
    "In log-log scale"
   ]
  },
  {
   "cell_type": "code",
   "execution_count": 5,
   "metadata": {},
   "outputs": [],
   "source": [
    "def degree_hist(G,name=None):\n",
    "    degree_hist = nx.degree_histogram(G)\n",
    "    k_list = np.arange(0,len(degree_hist))\n",
    "    plt.scatter(np.log(k_list),np.log(degree_hist),label=name)"
   ]
  },
  {
   "cell_type": "markdown",
   "metadata": {},
   "source": [
    "The basic network:"
   ]
  },
  {
   "cell_type": "code",
   "execution_count": 6,
   "metadata": {},
   "outputs": [
    {
     "name": "stderr",
     "output_type": "stream",
     "text": [
      "c:\\Users\\yumi4\\wikipedia-usage-network\\venv\\lib\\site-packages\\ipykernel_launcher.py:4: RuntimeWarning: divide by zero encountered in log\n",
      "  after removing the cwd from sys.path.\n"
     ]
    },
    {
     "data": {
      "text/plain": [
       "Text(0.5, 1.0, 'Basic Network')"
      ]
     },
     "execution_count": 6,
     "metadata": {},
     "output_type": "execute_result"
    },
    {
     "data": {
      "image/png": "[encoded data removed]",
      "text/plain": [
       "<Figure size 432x288 with 1 Axes>"
      ]
     },
     "metadata": {
      "needs_background": "light"
     },
     "output_type": "display_data"
    }
   ],
   "source": [
    "degree_hist(G)\n",
    "plt.title(\"Basic Network\")"
   ]
  },
  {
   "cell_type": "markdown",
   "metadata": {},
   "source": [
    "The special events networks:"
   ]
  },
  {
   "cell_type": "code",
   "execution_count": 7,
   "metadata": {},
   "outputs": [
    {
     "name": "stderr",
     "output_type": "stream",
     "text": [
      "c:\\Users\\yumi4\\wikipedia-usage-network\\venv\\lib\\site-packages\\ipykernel_launcher.py:4: RuntimeWarning: divide by zero encountered in log\n",
      "  after removing the cwd from sys.path.\n"
     ]
    },
    {
     "data": {
      "image/png": "[encoded data removed]",
      "text/plain": [
       "<Figure size 432x288 with 1 Axes>"
      ]
     },
     "metadata": {
      "needs_background": "light"
     },
     "output_type": "display_data"
    }
   ],
   "source": [
    "for i in G_events:\n",
    "    name = \"Before event \" + i + \" network\"\n",
    "    degree_hist(G_events[i][0],name)\n",
    "    plt.legend()\n",
    "    name = \"After event\" + i + \" network\"\n",
    "    degree_hist(G_events[i][1],name)\n",
    "    plt.legend()"
   ]
  },
  {
   "cell_type": "markdown",
   "metadata": {},
   "source": [
    "As we can see, in the both of the plots, there is somewhat of a linear trend."
   ]
  },
  {
   "cell_type": "code",
   "execution_count": 8,
   "metadata": {},
   "outputs": [],
   "source": [
    "def degree_seq(G):\n",
    "    degree_sequence = sorted([d for n,d in G.degree()],reverse=True)\n",
    "    plt.plot(degree_sequence)\n",
    "    return degree_sequence"
   ]
  },
  {
   "cell_type": "markdown",
   "metadata": {},
   "source": [
    "### Degree Ploting"
   ]
  },
  {
   "cell_type": "markdown",
   "metadata": {},
   "source": [
    "Basic network:"
   ]
  },
  {
   "cell_type": "code",
   "execution_count": 9,
   "metadata": {},
   "outputs": [
    {
     "data": {
      "text/plain": [
       "Text(0.5, 1.0, 'Basic network')"
      ]
     },
     "execution_count": 9,
     "metadata": {},
     "output_type": "execute_result"
    },
    {
     "data": {
      "image/png": "[encoded data removed]",
      "text/plain": [
       "<Figure size 432x288 with 1 Axes>"
      ]
     },
     "metadata": {
      "needs_background": "light"
     },
     "output_type": "display_data"
    }
   ],
   "source": [
    "DS_G=degree_seq(G)\n",
    "plt.title(\"Basic network\")"
   ]
  },
  {
   "cell_type": "markdown",
   "metadata": {},
   "source": [
    "Special events networks:"
   ]
  },
  {
   "cell_type": "code",
   "execution_count": 10,
   "metadata": {},
   "outputs": [
    {
     "name": "stderr",
     "output_type": "stream",
     "text": [
      "c:\\Users\\yumi4\\wikipedia-usage-network\\venv\\lib\\site-packages\\ipykernel_launcher.py:4: RuntimeWarning: divide by zero encountered in log\n",
      "  after removing the cwd from sys.path.\n"
     ]
    },
    {
     "data": {
      "image/png": "[encoded data removed]",
      "text/plain": [
       "<Figure size 432x288 with 1 Axes>"
      ]
     },
     "metadata": {
      "needs_background": "light"
     },
     "output_type": "display_data"
    }
   ],
   "source": [
    "DS_G_events = {\"A\":[],\"B\":[],\"C\":[]}\n",
    "for i in G_events:\n",
    "    DS_G_events[i].append(degree_seq(G_events[i][0]))\n",
    "    name = \"Before event \" + i + \" network\"\n",
    "    degree_hist(G_events[i][0],name)\n",
    "    plt.legend()\n",
    "    DS_G_events[i].append(degree_seq(G_events[i][1]))\n",
    "    name = \"After event\" + i + \" network\"\n",
    "    degree_hist(G_events[i][1],name)\n",
    "    plt.legend()"
   ]
  },
  {
   "cell_type": "markdown",
   "metadata": {},
   "source": [
    "As we can see, the wikipedia networks is has a power law degree distribution, that indicates that this network is a Scale Free network."
   ]
  },
  {
   "cell_type": "code",
   "execution_count": 13,
   "metadata": {},
   "outputs": [],
   "source": [
    "def degree_fig(degree_sequence,name=\"None\"):\n",
    "    figPDF = powerlaw.plot_pdf(degree_sequence,label=name)\n",
    "    figPDF.set_ylabel(r\"p(k)\")\n",
    "    figPDF.set_xlabel(r\"k\")"
   ]
  },
  {
   "cell_type": "code",
   "execution_count": 14,
   "metadata": {},
   "outputs": [
    {
     "data": {
      "text/plain": [
       "Text(0.5, 1.0, 'Basic network')"
      ]
     },
     "execution_count": 14,
     "metadata": {},
     "output_type": "execute_result"
    },
    {
     "data": {
      "image/png": "[encoded data removed]",
      "text/plain": [
       "<Figure size 432x288 with 1 Axes>"
      ]
     },
     "metadata": {
      "needs_background": "light"
     },
     "output_type": "display_data"
    }
   ],
   "source": [
    "degree_fig(DS_G)\n",
    "plt.title(\"Basic network\")"
   ]
  },
  {
   "cell_type": "code",
   "execution_count": 15,
   "metadata": {},
   "outputs": [
    {
     "data": {
      "image/png": "[encoded data removed]",
      "text/plain": [
       "<Figure size 432x288 with 1 Axes>"
      ]
     },
     "metadata": {
      "needs_background": "light"
     },
     "output_type": "display_data"
    }
   ],
   "source": [
    "for i in G_events:\n",
    "    name = \"Before event \" + i + \" network\"\n",
    "    degree_fig(DS_G_events[i][0],name)\n",
    "    plt.legend()\n",
    "    name = \"After event\" + i + \" network\"\n",
    "    degree_fig(DS_G_events[i][1],name)\n",
    "    plt.legend()"
   ]
  },
  {
   "cell_type": "markdown",
   "metadata": {},
   "source": [
    "### Fitting power law disribution to our networks"
   ]
  },
  {
   "cell_type": "code",
   "execution_count": 11,
   "metadata": {},
   "outputs": [],
   "source": [
    "def power_law_fit(degree_sequence):\n",
    "    fit = powerlaw.Fit(degree_sequence,discrete=True)\n",
    "    gamma = fit.power_law.alpha\n",
    "    print(\"gamma=\",gamma)"
   ]
  },
  {
   "cell_type": "markdown",
   "metadata": {},
   "source": [
    "Basic network:"
   ]
  },
  {
   "cell_type": "code",
   "execution_count": 12,
   "metadata": {},
   "outputs": [
    {
     "name": "stdout",
     "output_type": "stream",
     "text": [
      "Calculating best minimal value for power law fit\n",
      "gamma= 2.791599440301634\n"
     ]
    }
   ],
   "source": [
    "power_law_fit(DS_G)"
   ]
  },
  {
   "cell_type": "markdown",
   "metadata": {},
   "source": [
    "The special events networks:"
   ]
  },
  {
   "cell_type": "code",
   "execution_count": 13,
   "metadata": {},
   "outputs": [
    {
     "name": "stdout",
     "output_type": "stream",
     "text": [
      "Before event A network:\n",
      "Calculating best minimal value for power law fit\n",
      "gamma= 2.8029417850616407\n",
      "After event A network:\n",
      "Calculating best minimal value for power law fit\n",
      "gamma= 2.796395337499459\n",
      "\n",
      "Before event B network:\n",
      "Calculating best minimal value for power law fit\n",
      "gamma= 2.8035702424889046\n",
      "After event B network:\n",
      "Calculating best minimal value for power law fit\n",
      "gamma= 2.802988684437755\n",
      "\n",
      "Before event C network:\n",
      "Calculating best minimal value for power law fit\n",
      "gamma= 2.805158052205959\n",
      "After event C network:\n",
      "Calculating best minimal value for power law fit\n",
      "gamma= 2.799504596006316\n",
      "\n"
     ]
    }
   ],
   "source": [
    "for i in DS_G_events:\n",
    "    str_to_print = \"Before event \" + i + \" network:\"\n",
    "    print(str_to_print)\n",
    "    power_law_fit(DS_G_events[i][0])\n",
    "    str_to_print = \"After event \" + i + \" network:\"\n",
    "    print(str_to_print)\n",
    "    power_law_fit(DS_G_events[i][1])\n",
    "    print()"
   ]
  },
  {
   "cell_type": "markdown",
   "metadata": {},
   "source": [
    "### Average Degree"
   ]
  },
  {
   "cell_type": "markdown",
   "metadata": {},
   "source": [
    "Basic network:"
   ]
  },
  {
   "cell_type": "code",
   "execution_count": 14,
   "metadata": {},
   "outputs": [
    {
     "data": {
      "text/plain": [
       "52.067783199261505"
      ]
     },
     "execution_count": 14,
     "metadata": {},
     "output_type": "execute_result"
    }
   ],
   "source": [
    "2*G.number_of_edges() / float(G.number_of_nodes())"
   ]
  },
  {
   "cell_type": "markdown",
   "metadata": {},
   "source": [
    "Special events networks:"
   ]
  },
  {
   "cell_type": "code",
   "execution_count": 15,
   "metadata": {},
   "outputs": [
    {
     "name": "stdout",
     "output_type": "stream",
     "text": [
      "Before event A network:\n",
      "51.97319841378367\n",
      "After event A network:\n",
      "51.96719518862766\n",
      "\n",
      "Before event B network:\n",
      "51.95363256503572\n",
      "After event B network:\n",
      "51.93319865319865\n",
      "\n",
      "Before event C network:\n",
      "51.82567227447344\n",
      "After event C network:\n",
      "51.92038090199709\n",
      "\n"
     ]
    }
   ],
   "source": [
    "for i in G_events:\n",
    "    str_to_print = \"Before event \" + i + \" network:\"\n",
    "    print(str_to_print)\n",
    "    print(2*G_events[i][0].number_of_edges() / float(G_events[i][0].number_of_nodes()))\n",
    "    str_to_print = \"After event \" + i + \" network:\"\n",
    "    print(str_to_print)\n",
    "    print(2*G_events[i][1].number_of_edges() / float(G_events[i][1].number_of_nodes()))\n",
    "    print()"
   ]
  },
  {
   "cell_type": "code",
   "execution_count": 12,
   "metadata": {},
   "outputs": [
    {
     "data": {
      "text/plain": [
       "False"
      ]
     },
     "execution_count": 12,
     "metadata": {},
     "output_type": "execute_result"
    }
   ],
   "source": [
    "nx.is_weakly_connected(G)"
   ]
  }
 ],
 "metadata": {
  "interpreter": {
   "hash": "b26690d14dceb3ee9ac08a4299ad2a440fa2d4d0efcf5f4c46c4241048c04736"
  },
  "kernelspec": {
   "display_name": "Python 3.7.9 ('venv': venv)",
   "language": "python",
   "name": "python3"
  },
  "language_info": {
   "codemirror_mode": {
    "name": "ipython",
    "version": 3
   },
   "file_extension": ".py",
   "mimetype": "text/x-python",
   "name": "python",
   "nbconvert_exporter": "python",
   "pygments_lexer": "ipython3",
   "version": "3.7.9"
  },
  "orig_nbformat": 4
 },
 "nbformat": 4,
 "nbformat_minor": 2
}
