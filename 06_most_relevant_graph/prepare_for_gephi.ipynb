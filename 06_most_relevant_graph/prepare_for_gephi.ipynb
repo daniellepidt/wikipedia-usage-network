{
 "cells": [
  {
   "cell_type": "markdown",
   "metadata": {},
   "source": [
    "This file contains the work process we performed in order to create the data to be used with NetoworkX & Gephi"
   ]
  },
  {
   "cell_type": "code",
   "execution_count": 1,
   "metadata": {},
   "outputs": [],
   "source": [
    "import pandas as pd\n",
    "import sys\n",
    "sys.path.insert(0, '../') # Needed to import the DATES_STRINGS constant from a Python file.\n",
    "from init_data import DATES_STRINGS"
   ]
  },
  {
   "cell_type": "markdown",
   "metadata": {},
   "source": [
    "Creating the base DF:"
   ]
  },
  {
   "cell_type": "code",
   "execution_count": 2,
   "metadata": {},
   "outputs": [],
   "source": [
    "file_path = '../05_most_relevant_db/most_relevant_values.csv'\n",
    "relevant_df = pd.read_csv(file_path, index_col=0)"
   ]
  },
  {
   "cell_type": "markdown",
   "metadata": {},
   "source": [
    "Create the Nodes dataset from the clean DF:"
   ]
  },
  {
   "cell_type": "code",
   "execution_count": null,
   "metadata": {},
   "outputs": [],
   "source": [
    "columns = ['value', 'total_relevance'] + DATES_STRINGS # Create a united list of columns for the nodes DF\n",
    "nodes_df = relevant_df[columns] # Make a copy with the needed columns\n",
    "nodes_df[DATES_STRINGS] = nodes_df[DATES_STRINGS].astype(int) # Change types of columns from float to int\n",
    "nodes_df['id'] = nodes_df['value'] # Create an ID column for Gephi's usage\n",
    "nodes_df.rename(columns={'value': 'Label'}, inplace=True) # Replace column name for Gephi's format"
   ]
  },
  {
   "cell_type": "markdown",
   "metadata": {},
   "source": [
    "Create the Edges dataset from the clean DF:"
   ]
  },
  {
   "cell_type": "code",
   "execution_count": 8,
   "metadata": {},
   "outputs": [
    {
     "data": {
      "text/html": [
       "<div>\n",
       "<style scoped>\n",
       "    .dataframe tbody tr th:only-of-type {\n",
       "        vertical-align: middle;\n",
       "    }\n",
       "\n",
       "    .dataframe tbody tr th {\n",
       "        vertical-align: top;\n",
       "    }\n",
       "\n",
       "    .dataframe thead th {\n",
       "        text-align: right;\n",
       "    }\n",
       "</style>\n",
       "<table border=\"1\" class=\"dataframe\">\n",
       "  <thead>\n",
       "    <tr style=\"text-align: right;\">\n",
       "      <th></th>\n",
       "      <th>Source</th>\n",
       "      <th>Target</th>\n",
       "    </tr>\n",
       "  </thead>\n",
       "  <tbody>\n",
       "    <tr>\n",
       "      <th>0</th>\n",
       "      <td>2022 Russian invasion of Ukraine</td>\n",
       "      <td>Odesa</td>\n",
       "    </tr>\n",
       "    <tr>\n",
       "      <th>1</th>\n",
       "      <td>2022 Russian invasion of Ukraine</td>\n",
       "      <td>Russian Central Bank</td>\n",
       "    </tr>\n",
       "    <tr>\n",
       "      <th>2</th>\n",
       "      <td>2022 Russian invasion of Ukraine</td>\n",
       "      <td>Vladimir Putin</td>\n",
       "    </tr>\n",
       "    <tr>\n",
       "      <th>3</th>\n",
       "      <td>2022 Russian invasion of Ukraine</td>\n",
       "      <td>Human rights in Russia</td>\n",
       "    </tr>\n",
       "    <tr>\n",
       "      <th>4</th>\n",
       "      <td>2022 Russian invasion of Ukraine</td>\n",
       "      <td>Western Ukraine</td>\n",
       "    </tr>\n",
       "    <tr>\n",
       "      <th>...</th>\n",
       "      <td>...</td>\n",
       "      <td>...</td>\n",
       "    </tr>\n",
       "    <tr>\n",
       "      <th>14889</th>\n",
       "      <td>Leo Tolstoy</td>\n",
       "      <td>Napoleon I of France</td>\n",
       "    </tr>\n",
       "    <tr>\n",
       "      <th>14890</th>\n",
       "      <td>Leo Tolstoy</td>\n",
       "      <td>Anarchism in Russia</td>\n",
       "    </tr>\n",
       "    <tr>\n",
       "      <th>14891</th>\n",
       "      <td>Leo Tolstoy</td>\n",
       "      <td>Russian Orthodox Church</td>\n",
       "    </tr>\n",
       "    <tr>\n",
       "      <th>14892</th>\n",
       "      <td>Leo Tolstoy</td>\n",
       "      <td>Nicholas II of Russia</td>\n",
       "    </tr>\n",
       "    <tr>\n",
       "      <th>14893</th>\n",
       "      <td>Leo Tolstoy</td>\n",
       "      <td>Mikhail Bakunin</td>\n",
       "    </tr>\n",
       "  </tbody>\n",
       "</table>\n",
       "<p>14894 rows × 2 columns</p>\n",
       "</div>"
      ],
      "text/plain": [
       "                                 Source                   Target\n",
       "0      2022 Russian invasion of Ukraine                    Odesa\n",
       "1      2022 Russian invasion of Ukraine     Russian Central Bank\n",
       "2      2022 Russian invasion of Ukraine           Vladimir Putin\n",
       "3      2022 Russian invasion of Ukraine   Human rights in Russia\n",
       "4      2022 Russian invasion of Ukraine          Western Ukraine\n",
       "...                                 ...                      ...\n",
       "14889                       Leo Tolstoy     Napoleon I of France\n",
       "14890                       Leo Tolstoy      Anarchism in Russia\n",
       "14891                       Leo Tolstoy  Russian Orthodox Church\n",
       "14892                       Leo Tolstoy    Nicholas II of Russia\n",
       "14893                       Leo Tolstoy          Mikhail Bakunin\n",
       "\n",
       "[14894 rows x 2 columns]"
      ]
     },
     "execution_count": 8,
     "metadata": {},
     "output_type": "execute_result"
    }
   ],
   "source": [
    "edges_dict = {\"Source\": [], \"Target\": []} # Dict which will be used to generate the DF\n",
    "\n",
    "values = relevant_df['value'].to_list() # Get a list of all the values\n",
    "# Create a list of lists, which will contain all of the pointers:\n",
    "pointers = relevant_df['pointers'].apply(lambda x: x.split(\", \")).to_list()\n",
    "\n",
    "for i in range(len(values)): # Run through all indexes of values\n",
    "    for item in pointers[i]: # and on each item on every pointers sublist\n",
    "        if item in values:   # if the item on the pointers sublist is on the values list\n",
    "            edges_dict[\"Source\"].append(values[i]) # Add the value as the source\n",
    "            edges_dict[\"Target\"].append(item)      # and the item as the target\n",
    "\n",
    "edges_df = pd.DataFrame(edges_dict) # Create a dict with two columns - 'Source' & 'Target'\n",
    "edges_df\n"
   ]
  },
  {
   "cell_type": "markdown",
   "metadata": {},
   "source": [
    "Export both datasets into CSVs to be used inside of Gephi:"
   ]
  },
  {
   "cell_type": "code",
   "execution_count": 20,
   "metadata": {},
   "outputs": [],
   "source": [
    "edges_df.to_csv('relevant_edges.csv', index=False)\n",
    "nodes_df.to_csv('relevant_nodes.csv', index=False)"
   ]
  }
 ],
 "metadata": {
  "interpreter": {
   "hash": "09399ab798f0a64b5551add0194a95187620888c6688560e349fb88e236c16fb"
  },
  "kernelspec": {
   "display_name": "Python 3.7.3 ('venv': venv)",
   "language": "python",
   "name": "python3"
  },
  "language_info": {
   "codemirror_mode": {
    "name": "ipython",
    "version": 3
   },
   "file_extension": ".py",
   "mimetype": "text/x-python",
   "name": "python",
   "nbconvert_exporter": "python",
   "pygments_lexer": "ipython3",
   "version": "3.7.3"
  },
  "orig_nbformat": 4
 },
 "nbformat": 4,
 "nbformat_minor": 2
}
