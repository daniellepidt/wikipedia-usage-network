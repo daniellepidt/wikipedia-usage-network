{
 "cells": [
  {
   "cell_type": "code",
   "execution_count": 1,
   "metadata": {},
   "outputs": [],
   "source": [
    "import nbformat\n",
    "# Reading the notebooks\n",
    "first_notebook = nbformat.read('../04_graph_dbs/prepare_for_gephi.ipynb', 4)\n",
    "second_notebook = nbformat.read('../06_graph_datasets/create_all_relevant_edges_and_nodes.ipynb', 4)\n",
    "third_notebook = nbformat.read('../06_graph_datasets/network_features.ipynb', 4)\n",
    "fourth_notebook = nbformat.read('../06_graph_datasets/network_centrality_measures.ipynb', 4)\n",
    "\n",
    "# Creating a new notebook\n",
    "final_notebook = nbformat.v4.new_notebook(metadata=first_notebook.metadata)\n",
    "\n",
    "# Concatenating the notebooks\n",
    "final_notebook.cells = first_notebook.cells + second_notebook.cells + third_notebook.cells + fourth_notebook.cells\n",
    "\n",
    "# Saving the new notebook \n",
    "nbformat.write(final_notebook, 'wikipedia_parser.ipynb')\n"
   ]
  }
 ],
 "metadata": {
  "interpreter": {
   "hash": "c39a25059b35fbb5772bfe03bb6a8fd01f1555b924b3683037b7bea84769da4f"
  },
  "kernelspec": {
   "display_name": "Python 3.7.3 ('venv': venv)",
   "language": "python",
   "name": "python3"
  },
  "language_info": {
   "codemirror_mode": {
    "name": "ipython",
    "version": 3
   },
   "file_extension": ".py",
   "mimetype": "text/x-python",
   "name": "python",
   "nbconvert_exporter": "python",
   "pygments_lexer": "ipython3",
   "version": "3.7.3"
  },
  "orig_nbformat": 4
 },
 "nbformat": 4,
 "nbformat_minor": 2
}
