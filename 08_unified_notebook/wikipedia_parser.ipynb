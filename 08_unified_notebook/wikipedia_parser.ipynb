{
 "cells": [
  {
   "cell_type": "markdown",
   "id": "ef372d9a",
   "metadata": {},
   "source": [
    "This file contains the work process we performed in order to create the data to be used with NetoworkX & Gephi"
   ]
  },
  {
   "cell_type": "code",
   "execution_count": 6,
   "id": "62bbba9b",
   "metadata": {},
   "outputs": [],
   "source": [
    "import pandas as pd"
   ]
  },
  {
   "cell_type": "markdown",
   "id": "e208cef3",
   "metadata": {},
   "source": [
    "Creating the base DF:"
   ]
  },
  {
   "cell_type": "code",
   "execution_count": 7,
   "id": "5a3cf064",
   "metadata": {},
   "outputs": [],
   "source": [
    "file_path = 'wikipedia_articles.csv'\n",
    "articles_df = pd.read_csv(file_path, index_col=0, encoding='utf-8')"
   ]
  },
  {
   "cell_type": "markdown",
   "id": "93e25b80",
   "metadata": {},
   "source": [
    "Create the Nodes dataset from the clean DF:"
   ]
  },
  {
   "cell_type": "markdown",
   "id": "69ee59a7",
   "metadata": {},
   "source": [
    "Create the Edges dataset from the clean DF:"
   ]
  },
  {
   "cell_type": "code",
   "execution_count": 8,
   "id": "c29dbc09",
   "metadata": {},
   "outputs": [
    {
     "data": {
      "text/html": [
       "<div>\n",
       "<style scoped>\n",
       "    .dataframe tbody tr th:only-of-type {\n",
       "        vertical-align: middle;\n",
       "    }\n",
       "\n",
       "    .dataframe tbody tr th {\n",
       "        vertical-align: top;\n",
       "    }\n",
       "\n",
       "    .dataframe thead th {\n",
       "        text-align: right;\n",
       "    }\n",
       "</style>\n",
       "<table border=\"1\" class=\"dataframe\">\n",
       "  <thead>\n",
       "    <tr style=\"text-align: right;\">\n",
       "      <th></th>\n",
       "      <th>Source</th>\n",
       "      <th>Target</th>\n",
       "    </tr>\n",
       "  </thead>\n",
       "  <tbody>\n",
       "    <tr>\n",
       "      <th>0</th>\n",
       "      <td>Ukrainia</td>\n",
       "      <td>Architecture of Poland</td>\n",
       "    </tr>\n",
       "    <tr>\n",
       "      <th>1</th>\n",
       "      <td>Ukrainia</td>\n",
       "      <td>Great Purge</td>\n",
       "    </tr>\n",
       "    <tr>\n",
       "      <th>2</th>\n",
       "      <td>Ukrainia</td>\n",
       "      <td>Mykola Khvylovy</td>\n",
       "    </tr>\n",
       "    <tr>\n",
       "      <th>3</th>\n",
       "      <td>Ukrainia</td>\n",
       "      <td>Romanians</td>\n",
       "    </tr>\n",
       "    <tr>\n",
       "      <th>4</th>\n",
       "      <td>Ukrainia</td>\n",
       "      <td>Belarusians</td>\n",
       "    </tr>\n",
       "    <tr>\n",
       "      <th>...</th>\n",
       "      <td>...</td>\n",
       "      <td>...</td>\n",
       "    </tr>\n",
       "    <tr>\n",
       "      <th>197410</th>\n",
       "      <td>Wolin</td>\n",
       "      <td>Volhynia</td>\n",
       "    </tr>\n",
       "    <tr>\n",
       "      <th>197411</th>\n",
       "      <td>Wolin</td>\n",
       "      <td>Poland</td>\n",
       "    </tr>\n",
       "    <tr>\n",
       "      <th>197412</th>\n",
       "      <td>Wolin</td>\n",
       "      <td>Mead in Poland</td>\n",
       "    </tr>\n",
       "    <tr>\n",
       "      <th>197413</th>\n",
       "      <td>Wolin</td>\n",
       "      <td>Forest</td>\n",
       "    </tr>\n",
       "    <tr>\n",
       "      <th>197414</th>\n",
       "      <td>Wolin</td>\n",
       "      <td>German language</td>\n",
       "    </tr>\n",
       "  </tbody>\n",
       "</table>\n",
       "<p>197415 rows × 2 columns</p>\n",
       "</div>"
      ],
      "text/plain": [
       "          Source                  Target\n",
       "0       Ukrainia  Architecture of Poland\n",
       "1       Ukrainia             Great Purge\n",
       "2       Ukrainia         Mykola Khvylovy\n",
       "3       Ukrainia               Romanians\n",
       "4       Ukrainia             Belarusians\n",
       "...          ...                     ...\n",
       "197410     Wolin                Volhynia\n",
       "197411     Wolin                  Poland\n",
       "197412     Wolin          Mead in Poland\n",
       "197413     Wolin                  Forest\n",
       "197414     Wolin         German language\n",
       "\n",
       "[197415 rows x 2 columns]"
      ]
     },
     "execution_count": 8,
     "metadata": {},
     "output_type": "execute_result"
    }
   ],
   "source": [
    "# First, we will create the nodes table\n",
    "ser_values = articles_df.iloc[:, 0]\n",
    "ser_pointers_old = articles_df.iloc[:, 3]\n",
    "# Cleaning ser_pointers because it contains strings with the nodes we want\n",
    "temp_lst = []\n",
    "for row in ser_pointers_old:\n",
    "    if type(row) != float:\n",
    "        temp_split = row.split(\", \")\n",
    "        for i in temp_split:\n",
    "            temp_lst.append(i)\n",
    "ser_pointers = pd.Series(temp_lst)\n",
    "# Merging the two sets for one nodes set\n",
    "ser_combined = ser_values.append(ser_pointers)\n",
    "ser_combined = ser_combined.unique()\n",
    "\n",
    "nodes_df = pd.DataFrame(ser_combined)\n",
    "\n",
    "edges_dict = {\"Source\": [], \"Target\": []}\n",
    "for i in range(len(ser_pointers_old)):\n",
    "    if type(ser_pointers_old[i]) != float:\n",
    "        temp_split = ser_pointers_old[i].split(\", \")\n",
    "        for j in temp_split:\n",
    "            edges_dict[\"Source\"].append(ser_values[i])\n",
    "            edges_dict[\"Target\"].append(j)\n",
    "edges_df = pd.DataFrame(edges_dict)\n",
    "edges_df\n"
   ]
  },
  {
   "cell_type": "markdown",
   "id": "a7019b06",
   "metadata": {},
   "source": [
    "Creating the base DF to use in the creation of the nodes & edges:"
   ]
  },
  {
   "cell_type": "code",
   "execution_count": 10,
   "id": "fffab47d",
   "metadata": {},
   "outputs": [
    {
     "data": {
      "text/html": [
       "<div>\n",
       "<style scoped>\n",
       "    .dataframe tbody tr th:only-of-type {\n",
       "        vertical-align: middle;\n",
       "    }\n",
       "\n",
       "    .dataframe tbody tr th {\n",
       "        vertical-align: top;\n",
       "    }\n",
       "\n",
       "    .dataframe thead th {\n",
       "        text-align: right;\n",
       "    }\n",
       "</style>\n",
       "<table border=\"1\" class=\"dataframe\">\n",
       "  <thead>\n",
       "    <tr style=\"text-align: right;\">\n",
       "      <th></th>\n",
       "      <th>Label</th>\n",
       "      <th>ukraine_relevance</th>\n",
       "      <th>russia_relevance</th>\n",
       "      <th>pointers</th>\n",
       "      <th>20180401-20180501</th>\n",
       "      <th>20180501-20180601</th>\n",
       "      <th>20190901-20191001</th>\n",
       "      <th>20191001-20191101</th>\n",
       "      <th>20220101-20220201</th>\n",
       "      <th>20220201-20220301</th>\n",
       "      <th>id</th>\n",
       "      <th>total_relevance</th>\n",
       "      <th>pointers_ids</th>\n",
       "    </tr>\n",
       "  </thead>\n",
       "  <tbody>\n",
       "    <tr>\n",
       "      <th>0</th>\n",
       "      <td>Ukrainia</td>\n",
       "      <td>437</td>\n",
       "      <td>135</td>\n",
       "      <td>Architecture of Poland, Great Purge, Mykola Kh...</td>\n",
       "      <td>218</td>\n",
       "      <td>173</td>\n",
       "      <td>185</td>\n",
       "      <td>161</td>\n",
       "      <td>394</td>\n",
       "      <td>1331</td>\n",
       "      <td>0</td>\n",
       "      <td>572</td>\n",
       "      <td>[403, 829, 586, 149, 605, 59, 3063, 62, 145, 1...</td>\n",
       "    </tr>\n",
       "    <tr>\n",
       "      <th>1</th>\n",
       "      <td>Ukraine</td>\n",
       "      <td>436</td>\n",
       "      <td>135</td>\n",
       "      <td>Architecture of Poland, Great Purge, Mykola Kh...</td>\n",
       "      <td>228629</td>\n",
       "      <td>259346</td>\n",
       "      <td>320373</td>\n",
       "      <td>305501</td>\n",
       "      <td>1342625</td>\n",
       "      <td>10093079</td>\n",
       "      <td>1</td>\n",
       "      <td>571</td>\n",
       "      <td>[403, 829, 586, 149, 6705, 605, 59, 3063, 62, ...</td>\n",
       "    </tr>\n",
       "    <tr>\n",
       "      <th>2</th>\n",
       "      <td>War in Donbass</td>\n",
       "      <td>368</td>\n",
       "      <td>306</td>\n",
       "      <td>Soledar, Kyiv Post, Post-Soviet conflicts, Tri...</td>\n",
       "      <td>72012</td>\n",
       "      <td>79062</td>\n",
       "      <td>77510</td>\n",
       "      <td>78256</td>\n",
       "      <td>232111</td>\n",
       "      <td>1185121</td>\n",
       "      <td>2</td>\n",
       "      <td>674</td>\n",
       "      <td>[431, 5126, 89, 1141, 6705, 1581, 1264, 1166, ...</td>\n",
       "    </tr>\n",
       "    <tr>\n",
       "      <th>3</th>\n",
       "      <td>RussiaâUkraine relations</td>\n",
       "      <td>349</td>\n",
       "      <td>332</td>\n",
       "      <td>Lazar Kaganovich, Belarusians, Rivne Nuclear P...</td>\n",
       "      <td>7618</td>\n",
       "      <td>7754</td>\n",
       "      <td>12557</td>\n",
       "      <td>10797</td>\n",
       "      <td>131310</td>\n",
       "      <td>1836700</td>\n",
       "      <td>3</td>\n",
       "      <td>681</td>\n",
       "      <td>[34, 1027, 3750, 1206, 229, 149, 90, 66, 307, ...</td>\n",
       "    </tr>\n",
       "    <tr>\n",
       "      <th>4</th>\n",
       "      <td>Ukrainian language</td>\n",
       "      <td>346</td>\n",
       "      <td>129</td>\n",
       "      <td>Russian Empire Census, Great Purge, Turkic peo...</td>\n",
       "      <td>35159</td>\n",
       "      <td>40111</td>\n",
       "      <td>35751</td>\n",
       "      <td>38397</td>\n",
       "      <td>77086</td>\n",
       "      <td>431072</td>\n",
       "      <td>4</td>\n",
       "      <td>475</td>\n",
       "      <td>[3286, 3184, 739, 3539, 89, 1419, 1205, 149, 2...</td>\n",
       "    </tr>\n",
       "  </tbody>\n",
       "</table>\n",
       "</div>"
      ],
      "text/plain": [
       "                        Label  ukraine_relevance  russia_relevance  \\\n",
       "0                    Ukrainia                437               135   \n",
       "1                     Ukraine                436               135   \n",
       "2              War in Donbass                368               306   \n",
       "3  RussiaâUkraine relations                349               332   \n",
       "4          Ukrainian language                346               129   \n",
       "\n",
       "                                            pointers  20180401-20180501  \\\n",
       "0  Architecture of Poland, Great Purge, Mykola Kh...                218   \n",
       "1  Architecture of Poland, Great Purge, Mykola Kh...             228629   \n",
       "2  Soledar, Kyiv Post, Post-Soviet conflicts, Tri...              72012   \n",
       "3  Lazar Kaganovich, Belarusians, Rivne Nuclear P...               7618   \n",
       "4  Russian Empire Census, Great Purge, Turkic peo...              35159   \n",
       "\n",
       "   20180501-20180601  20190901-20191001  20191001-20191101  20220101-20220201  \\\n",
       "0                173                185                161                394   \n",
       "1             259346             320373             305501            1342625   \n",
       "2              79062              77510              78256             232111   \n",
       "3               7754              12557              10797             131310   \n",
       "4              40111              35751              38397              77086   \n",
       "\n",
       "   20220201-20220301  id  total_relevance  \\\n",
       "0               1331   0              572   \n",
       "1           10093079   1              571   \n",
       "2            1185121   2              674   \n",
       "3            1836700   3              681   \n",
       "4             431072   4              475   \n",
       "\n",
       "                                        pointers_ids  \n",
       "0  [403, 829, 586, 149, 605, 59, 3063, 62, 145, 1...  \n",
       "1  [403, 829, 586, 149, 6705, 605, 59, 3063, 62, ...  \n",
       "2  [431, 5126, 89, 1141, 6705, 1581, 1264, 1166, ...  \n",
       "3  [34, 1027, 3750, 1206, 229, 149, 90, 66, 307, ...  \n",
       "4  [3286, 3184, 739, 3539, 89, 1419, 1205, 149, 2...  "
      ]
     },
     "execution_count": 10,
     "metadata": {},
     "output_type": "execute_result"
    }
   ],
   "source": [
    "DATES_FOR_CHECKING = [\n",
    "  ('20180401', '20180501'),\n",
    "  ('20180501', '20180601'),\n",
    "  ('20190901', '20191001'),\n",
    "  ('20191001', '20191101'),\n",
    "  ('20220101', '20220201'),\n",
    "  ('20220201', '20220301')\n",
    "]\n",
    "DATES_STRINGS = [f'{pair[0]}-{pair[1]}' for pair in DATES_FOR_CHECKING]\n",
    "\n",
    "articles_df[DATES_STRINGS] = articles_df[DATES_STRINGS].astype(int) # Change types of columns from float to int\n",
    "articles_df['id'] = articles_df.index # Create an ID column for Gephi's usage\n",
    "articles_df['total_relevance'] = articles_df['ukraine_relevance'] + articles_df['russia_relevance']\n",
    "articles_df.rename(columns={'value': 'Label'}, inplace=True) # Replace column name for Gephi's format\n",
    "pointers_set = set(articles_df['Label']) # Unique set of pointers for future usage.\n",
    "articles_df['pointers'] = articles_df['pointers'].astype(str)\n",
    "\n",
    "def convert_pointers_to_ids(pointers_string):\n",
    "  # This function converts pointers from a list of string to a list of pointers,\n",
    "  # in order to minimize the size of the files.\n",
    "  pointers_list = pointers_string.split(', ') # Create a list of strings from the pointers\n",
    "  pointers_in_df_set = set(pointers_list) & set(pointers_set) # Leave only the pointers which exist under the Labels column.\n",
    "  pointers_ids = [articles_df.loc[articles_df['Label'] == pointer, 'id'].iloc[0] for pointer in pointers_in_df_set] # Convert to a list of ids.\n",
    "  return pointers_ids\n",
    "\n",
    "articles_df['pointers_ids'] = articles_df['pointers'].apply(convert_pointers_to_ids)\n",
    "articles_df.sort_values('id', inplace=True)\n",
    "articles_df.head()"
   ]
  },
  {
   "cell_type": "markdown",
   "id": "7315b261",
   "metadata": {},
   "source": [
    "Create the Nodes & Edges datasets for every pageviews dates range:"
   ]
  },
  {
   "cell_type": "code",
   "execution_count": 11,
   "id": "9d9b83a6",
   "metadata": {},
   "outputs": [],
   "source": [
    "def create_edges_df_from_nodes_df(nodes_df):\n",
    "    edges_dict = {\"Source\": [], \"Target\": []} # Dict which will be used to generate the DF\n",
    "\n",
    "    values = nodes_df['id'].to_list() # Get a list of all the values\n",
    "    values_set = set(values) # Create a set of unique values in this DF\n",
    "    # Create a list of lists, which will contain all of the pointers:\n",
    "    pointers = nodes_df['pointers_ids'] #.apply(lambda x: x.split(\", \")).to_list()\n",
    "    for i in range(len(values)): # Run through all indexes of values\n",
    "        pointers_in_df_set = set(values_set) & set(pointers.iloc[i]) # Make sure there aren't any pointers which don't have matching values in this DF\n",
    "        for item in pointers_in_df_set: # and on each item on every pointers sublist\n",
    "            # if item in values:   # if the item on the pointers sublist is on the values list\n",
    "            edges_dict[\"Source\"].append(values[i]) # Add the value as the source\n",
    "            edges_dict[\"Target\"].append(item)      # and the item as the target\n",
    "\n",
    "    edges_df = pd.DataFrame(edges_dict) # Create a dict with two columns - 'Source' & 'Target'\n",
    "    return edges_df\n",
    "\n",
    "def create_nodes_df_for_date_range(df, date_string):\n",
    "     # Get the relevant columns from the base DF where the pageviews aren't zero:\n",
    "    nodes_df = df[['id', 'Label', 'total_relevance', date_string, 'pointers_ids']][df[date_string] != 0].rename(columns={date_string: 'pageviews'})\n",
    "    return nodes_df\n",
    "\n",
    "# Create two dictionaries with the dates range as the keys and the corresponding DFs as the values:\n",
    "nodes = {dates_string: create_nodes_df_for_date_range(articles_df, dates_string) for dates_string in DATES_STRINGS}\n",
    "edges = {dates_string: create_edges_df_from_nodes_df(nodes[dates_string]) for dates_string in DATES_STRINGS}"
   ]
  },
  {
   "cell_type": "markdown",
   "id": "acceb0fb",
   "metadata": {},
   "source": [
    "## Analysis of the network\n",
    "Using networksx"
   ]
  },
  {
   "cell_type": "markdown",
   "id": "32fef30b",
   "metadata": {},
   "source": [
    "### Imports"
   ]
  },
  {
   "cell_type": "code",
   "execution_count": 13,
   "id": "9de4db39",
   "metadata": {},
   "outputs": [],
   "source": [
    "import networkx as nx\n",
    "import matplotlib.pylab as plt\n",
    "import powerlaw"
   ]
  },
  {
   "cell_type": "markdown",
   "id": "5e96ba40",
   "metadata": {},
   "source": [
    "### Defining G graph"
   ]
  },
  {
   "cell_type": "code",
   "execution_count": 14,
   "id": "37e38d62",
   "metadata": {},
   "outputs": [],
   "source": [
    "G = nx.from_pandas_edgelist(edges_df,\"Source\",\"Target\",create_using=nx.DiGraph)\n",
    "# Importing the graphs of the events, for research question no. 2\n",
    "G_events={\"A\":[],\"B\":[],\"C\":[]}\n",
    "\n",
    "before2018_edges_df = edges[DATES_STRINGS[0]].copy()\n",
    "G_events[\"A\"].append(nx.from_pandas_edgelist(before2018_edges_df,\"Source\",\"Target\",create_using=nx.DiGraph))\n",
    "\n",
    "after2018_edges_df = edges[DATES_STRINGS[1]].copy()\n",
    "G_events[\"A\"].append(nx.from_pandas_edgelist(after2018_edges_df,\"Source\",\"Target\",create_using=nx.DiGraph))\n",
    "\n",
    "before2019_edges_df = edges[DATES_STRINGS[2]].copy()\n",
    "G_events[\"B\"].append(nx.from_pandas_edgelist(before2019_edges_df,\"Source\",\"Target\",create_using=nx.DiGraph))\n",
    "\n",
    "after2019_edges_df = edges[DATES_STRINGS[3]].copy()\n",
    "G_events[\"B\"].append(nx.from_pandas_edgelist(after2019_edges_df,\"Source\",\"Target\",create_using=nx.DiGraph))\n",
    "\n",
    "before2022_edges_df = edges[DATES_STRINGS[4]].copy()\n",
    "G_events[\"C\"].append(nx.from_pandas_edgelist(before2022_edges_df,\"Source\",\"Target\",create_using=nx.DiGraph))\n",
    "\n",
    "after2022_edges_df = edges[DATES_STRINGS[5]].copy()\n",
    "G_events[\"C\"].append(nx.from_pandas_edgelist(after2022_edges_df,\"Source\",\"Target\",create_using=nx.DiGraph))"
   ]
  },
  {
   "cell_type": "markdown",
   "id": "0445082e",
   "metadata": {},
   "source": [
    "### Information about the graph"
   ]
  },
  {
   "cell_type": "code",
   "execution_count": 15,
   "id": "7487defe",
   "metadata": {},
   "outputs": [
    {
     "name": "stdout",
     "output_type": "stream",
     "text": [
      "Basic network:\n",
      "DiGraph with 7583 nodes and 197415 edges\n",
      "\n",
      "Before special events networks:\n",
      "DiGraph with 7313 nodes and 190040 edges\n",
      "DiGraph with 7419 nodes and 192722 edges\n",
      "DiGraph with 7549 nodes and 195616 edges\n",
      "\n",
      "After special events networks:\n",
      "DiGraph with 7316 nodes and 190096 edges\n",
      "DiGraph with 7425 nodes and 192802 edges\n",
      "DiGraph with 7561 nodes and 196285 edges\n"
     ]
    }
   ],
   "source": [
    "def info(G):\n",
    "    print(nx.info(G))\n",
    "print(\"Basic network:\")\n",
    "info(G)\n",
    "print(\"\\nBefore special events networks:\")\n",
    "for i in G_events:\n",
    "    info(G_events[i][0])\n",
    "print(\"\\nAfter special events networks:\")\n",
    "for i in G_events:\n",
    "    info(G_events[i][1])"
   ]
  },
  {
   "cell_type": "markdown",
   "id": "6793ebf7",
   "metadata": {},
   "source": [
    "### Diameter"
   ]
  },
  {
   "cell_type": "code",
   "execution_count": 16,
   "id": "eab32332",
   "metadata": {},
   "outputs": [
    {
     "name": "stdout",
     "output_type": "stream",
     "text": [
      "Basic network diameter: 9\n",
      "\n",
      "Before event A network diameter: 9\n",
      "After event A network diameter: 9\n",
      "\n",
      "Before event B network diameter: 9\n",
      "After event B network diameter: 9\n",
      "\n",
      "Before event C network diameter: 9\n",
      "After event C network diameter: 9\n"
     ]
    }
   ],
   "source": [
    "def calc_diameter(G):\n",
    "    return max([max(j.values()) for (i,j) in nx.shortest_path_length(G)])\n",
    "print(\"Basic network diameter: \" +str(calc_diameter(G)))\n",
    "for i in G_events:\n",
    "    str_to_print= \"\\nBefore event \" + i +\" network diameter: \"\n",
    "    print(str_to_print + str(calc_diameter(G_events[i][0])))\n",
    "    str_to_print = \"After event \" + i + \" network diameter: \"\n",
    "    print(str_to_print + str(calc_diameter(G_events[i][1])))"
   ]
  },
  {
   "cell_type": "markdown",
   "id": "49c475ff",
   "metadata": {},
   "source": [
    "### Average Shortest Path Length\n",
    "We weren't able to calculate this value after consulting with the course staff, running it will cause an error:"
   ]
  },
  {
   "cell_type": "code",
   "execution_count": 55,
   "id": "fb01e7ce",
   "metadata": {},
   "outputs": [],
   "source": [
    "# average_shortest_path_length = nx.average_shortest_path_length(G)"
   ]
  },
  {
   "cell_type": "markdown",
   "id": "2feebbd5",
   "metadata": {},
   "source": [
    "### Degree Histogram\n",
    "In log-log scale"
   ]
  },
  {
   "cell_type": "code",
   "execution_count": 19,
   "id": "e42b1a1b",
   "metadata": {},
   "outputs": [],
   "source": [
    "def degree_hist_in(G,name=None):\n",
    "    in_degrees = G.in_degree()\n",
    "    in_degrees=dict(in_degrees)\n",
    "    in_values = sorted(set(in_degrees.values()))\n",
    "    in_hist = [list(in_degrees.values()).count(x) for x in in_values]\n",
    "\n",
    "    plt.figure() \n",
    "    plt.grid(False)\n",
    "    plt.loglog(in_values, in_hist, 'r.') \n",
    "    plt.xlabel('log k')\n",
    "    plt.ylabel('p(k)')"
   ]
  },
  {
   "cell_type": "code",
   "execution_count": 20,
   "id": "7e4a9b30",
   "metadata": {},
   "outputs": [],
   "source": [
    "def degree_hist_out(G,name=None):\n",
    "    out_degrees = G.out_degree()\n",
    "    out_degrees=dict(out_degrees)\n",
    "    out_values = sorted(set(out_degrees.values()))\n",
    "    out_hist = [list(out_degrees.values()).count(x) for x in out_values]\n",
    "\n",
    "    plt.figure() \n",
    "    plt.grid(False)\n",
    "    plt.loglog(out_values, out_hist, 'r.') \n",
    "    plt.xlabel('log k')\n",
    "    plt.ylabel('p(k)')"
   ]
  },
  {
   "cell_type": "markdown",
   "id": "6fcf1df5",
   "metadata": {},
   "source": [
    "The basic network:"
   ]
  },
  {
   "cell_type": "code",
   "execution_count": 21,
   "id": "b79d4b61",
   "metadata": {},
   "outputs": [
    {
     "data": {
      "text/plain": [
       "Text(0.5, 1.0, 'Basic Network In Degree Distribution')"
      ]
     },
     "execution_count": 21,
     "metadata": {},
     "output_type": "execute_result"
    },
    {
     "data": {
      "image/png": "[encoded data removed]",
      "text/plain": [
       "<Figure size 432x288 with 1 Axes>"
      ]
     },
     "metadata": {
      "needs_background": "light"
     },
     "output_type": "display_data"
    }
   ],
   "source": [
    "degree_hist_in(G)\n",
    "plt.title(\"Basic Network In Degree Distribution\")"
   ]
  },
  {
   "cell_type": "code",
   "execution_count": 22,
   "id": "7589b372",
   "metadata": {},
   "outputs": [
    {
     "data": {
      "text/plain": [
       "Text(0.5, 1.0, 'Basic Network Out Degree Distribution')"
      ]
     },
     "execution_count": 22,
     "metadata": {},
     "output_type": "execute_result"
    },
    {
     "data": {
      "image/png": "[encoded data removed]",
      "text/plain": [
       "<Figure size 432x288 with 1 Axes>"
      ]
     },
     "metadata": {
      "needs_background": "light"
     },
     "output_type": "display_data"
    }
   ],
   "source": [
    "degree_hist_out(G)\n",
    "plt.title(\"Basic Network Out Degree Distribution\")"
   ]
  },
  {
   "cell_type": "markdown",
   "id": "bbf96700",
   "metadata": {},
   "source": [
    "The special events networks:"
   ]
  },
  {
   "cell_type": "code",
   "execution_count": 23,
   "id": "728ae1a8",
   "metadata": {},
   "outputs": [
    {
     "data": {
      "image/png": "[encoded data removed]",
      "text/plain": [
       "<Figure size 432x288 with 1 Axes>"
      ]
     },
     "metadata": {
      "needs_background": "light"
     },
     "output_type": "display_data"
    },
    {
     "data": {
      "image/png": "[encoded data removed]",
      "text/plain": [
       "<Figure size 432x288 with 1 Axes>"
      ]
     },
     "metadata": {
      "needs_background": "light"
     },
     "output_type": "display_data"
    },
    {
     "data": {
      "image/png": "[encoded data removed]",
      "text/plain": [
       "<Figure size 432x288 with 1 Axes>"
      ]
     },
     "metadata": {
      "needs_background": "light"
     },
     "output_type": "display_data"
    },
    {
     "data": {
      "image/png": "[encoded data removed]",
      "text/plain": [
       "<Figure size 432x288 with 1 Axes>"
      ]
     },
     "metadata": {
      "needs_background": "light"
     },
     "output_type": "display_data"
    },
    {
     "data": {
      "image/png": "[encoded data removed]",
      "text/plain": [
       "<Figure size 432x288 with 1 Axes>"
      ]
     },
     "metadata": {
      "needs_background": "light"
     },
     "output_type": "display_data"
    },
    {
     "data": {
      "image/png": "[encoded data removed]",
      "text/plain": [
       "<Figure size 432x288 with 1 Axes>"
      ]
     },
     "metadata": {
      "needs_background": "light"
     },
     "output_type": "display_data"
    }
   ],
   "source": [
    "for i in G_events:\n",
    "    name = \"Before event \" + i + \" network\"\n",
    "    degree_hist_in(G_events[i][0],name)\n",
    "    plt.title(name +\" In Degree Distribution\")\n",
    "    name = \"After event \" + i + \" network\"\n",
    "    degree_hist_in(G_events[i][1],name)\n",
    "    plt.title(name +\" In Degree Distribution\")"
   ]
  },
  {
   "cell_type": "code",
   "execution_count": 24,
   "id": "fbc3fc85",
   "metadata": {},
   "outputs": [
    {
     "data": {
      "image/png": "[encoded data removed]",
      "text/plain": [
       "<Figure size 432x288 with 1 Axes>"
      ]
     },
     "metadata": {
      "needs_background": "light"
     },
     "output_type": "display_data"
    },
    {
     "data": {
      "image/png": "[encoded data removed]",
      "text/plain": [
       "<Figure size 432x288 with 1 Axes>"
      ]
     },
     "metadata": {
      "needs_background": "light"
     },
     "output_type": "display_data"
    },
    {
     "data": {
      "image/png": "[encoded data removed]",
      "text/plain": [
       "<Figure size 432x288 with 1 Axes>"
      ]
     },
     "metadata": {
      "needs_background": "light"
     },
     "output_type": "display_data"
    },
    {
     "data": {
      "image/png": "[encoded data removed]",
      "text/plain": [
       "<Figure size 432x288 with 1 Axes>"
      ]
     },
     "metadata": {
      "needs_background": "light"
     },
     "output_type": "display_data"
    },
    {
     "data": {
      "image/png": "[encoded data removed]",
      "text/plain": [
       "<Figure size 432x288 with 1 Axes>"
      ]
     },
     "metadata": {
      "needs_background": "light"
     },
     "output_type": "display_data"
    },
    {
     "data": {
      "image/png": "[encoded data removed]",
      "text/plain": [
       "<Figure size 432x288 with 1 Axes>"
      ]
     },
     "metadata": {
      "needs_background": "light"
     },
     "output_type": "display_data"
    }
   ],
   "source": [
    "for i in G_events:\n",
    "    name = \"Before event \" + i + \" network\"\n",
    "    degree_hist_out(G_events[i][0],name)\n",
    "    plt.title(name +\" Out Degree Distribution\")\n",
    "    name = \"After event \" + i + \" network\"\n",
    "    degree_hist_out(G_events[i][1],name)\n",
    "    plt.title(name +\" Out Degree Distribution\")"
   ]
  },
  {
   "cell_type": "markdown",
   "id": "e6d54d68",
   "metadata": {},
   "source": [
    "As we can see, in the both of the plots, there is somewhat of a linear trend."
   ]
  },
  {
   "cell_type": "code",
   "execution_count": 25,
   "id": "5024ce40",
   "metadata": {},
   "outputs": [],
   "source": [
    "def degree_seq_in(G,name=None):\n",
    "    degree_sequence = sorted([d for n,d in G.in_degree()],reverse=True)\n",
    "    plt.xlabel(\"k\")\n",
    "    plt.ylabel(\"Number of nodes with k links \")\n",
    "    plt.plot(degree_sequence, label=name)\n",
    "    return degree_sequence"
   ]
  },
  {
   "cell_type": "code",
   "execution_count": 26,
   "id": "0e6d36a4",
   "metadata": {},
   "outputs": [],
   "source": [
    "def degree_seq_out(G,name=None):\n",
    "    degree_sequence = sorted([d for n,d in G.out_degree()],reverse=True)\n",
    "    plt.xlabel(\"k\")\n",
    "    plt.ylabel(\"Number of nodes with k links \")\n",
    "    plt.plot(degree_sequence,label=name)\n",
    "    return degree_sequence"
   ]
  },
  {
   "cell_type": "markdown",
   "id": "fe0e8d5c",
   "metadata": {},
   "source": [
    "### Degree Ploting"
   ]
  },
  {
   "cell_type": "markdown",
   "id": "ece45030",
   "metadata": {},
   "source": [
    "Basic network - in:"
   ]
  },
  {
   "cell_type": "code",
   "execution_count": 27,
   "id": "18a3dec0",
   "metadata": {},
   "outputs": [
    {
     "data": {
      "text/plain": [
       "Text(0.5, 1.0, 'Basic network - In')"
      ]
     },
     "execution_count": 27,
     "metadata": {},
     "output_type": "execute_result"
    },
    {
     "data": {
      "image/png": "[encoded data removed]",
      "text/plain": [
       "<Figure size 432x288 with 1 Axes>"
      ]
     },
     "metadata": {
      "needs_background": "light"
     },
     "output_type": "display_data"
    }
   ],
   "source": [
    "DS_G_in=degree_seq_in(G)\n",
    "plt.title(\"Basic network - In\")"
   ]
  },
  {
   "cell_type": "markdown",
   "id": "87b766fc",
   "metadata": {},
   "source": [
    "Out:"
   ]
  },
  {
   "cell_type": "code",
   "execution_count": 28,
   "id": "fa89ce78",
   "metadata": {},
   "outputs": [
    {
     "data": {
      "text/plain": [
       "Text(0.5, 1.0, 'Basic network - Out')"
      ]
     },
     "execution_count": 28,
     "metadata": {},
     "output_type": "execute_result"
    },
    {
     "data": {
      "image/png": "[encoded data removed]",
      "text/plain": [
       "<Figure size 432x288 with 1 Axes>"
      ]
     },
     "metadata": {
      "needs_background": "light"
     },
     "output_type": "display_data"
    }
   ],
   "source": [
    "DS_G_out=degree_seq_out(G)\n",
    "plt.title(\"Basic network - Out\")"
   ]
  },
  {
   "cell_type": "markdown",
   "id": "d2cbe294",
   "metadata": {},
   "source": [
    "Special events networks - in:"
   ]
  },
  {
   "cell_type": "code",
   "execution_count": 29,
   "id": "52a705ad",
   "metadata": {},
   "outputs": [
    {
     "data": {
      "image/png": "[encoded data removed]",
      "text/plain": [
       "<Figure size 432x288 with 1 Axes>"
      ]
     },
     "metadata": {
      "needs_background": "light"
     },
     "output_type": "display_data"
    }
   ],
   "source": [
    "DS_G_events_in = {\"A\":[],\"B\":[],\"C\":[]}\n",
    "for i in G_events:\n",
    "    name = \"Before event \" + i + \" network\"\n",
    "    DS_G_events_in[i].append(degree_seq_in(G_events[i][0],name))\n",
    "    plt.legend()\n",
    "    name = \"After event \" + i + \" network\"\n",
    "    DS_G_events_in[i].append(degree_seq_in(G_events[i][1],name))\n",
    "    plt.legend()\n",
    "    plt.title(\"In Degree Distribution\")"
   ]
  },
  {
   "cell_type": "code",
   "execution_count": 30,
   "id": "06c7e6b6",
   "metadata": {},
   "outputs": [
    {
     "data": {
      "image/png": "[encoded data removed]",
      "text/plain": [
       "<Figure size 432x288 with 1 Axes>"
      ]
     },
     "metadata": {
      "needs_background": "light"
     },
     "output_type": "display_data"
    }
   ],
   "source": [
    "DS_G_events_out = {\"A\":[],\"B\":[],\"C\":[]}\n",
    "for i in G_events:\n",
    "    name = \"Before event \" + i + \" network\"\n",
    "    DS_G_events_out[i].append(degree_seq_out(G_events[i][0],name))\n",
    "    plt.legend()\n",
    "    name = \"After event \" + i + \" network\"\n",
    "    DS_G_events_out[i].append(degree_seq_out(G_events[i][1],name))\n",
    "    plt.legend()\n",
    "    plt.title(\"Out Degree Distribution\")"
   ]
  },
  {
   "cell_type": "markdown",
   "id": "9f4f3c71",
   "metadata": {},
   "source": [
    "As we can see, the wikipedia networks is has a power law degree distribution, that indicates that this network is a Scale Free network."
   ]
  },
  {
   "cell_type": "markdown",
   "id": "18552bd2",
   "metadata": {},
   "source": [
    "### Fitting power law disribution to our networks"
   ]
  },
  {
   "cell_type": "code",
   "execution_count": 31,
   "id": "24f2930b",
   "metadata": {},
   "outputs": [],
   "source": [
    "def power_law_fit(degree_sequence):\n",
    "    fit = powerlaw.Fit(degree_sequence,discrete=True)\n",
    "    gamma = fit.power_law.alpha\n",
    "    print(\"gamma=\",gamma)"
   ]
  },
  {
   "cell_type": "markdown",
   "id": "efe23adc",
   "metadata": {},
   "source": [
    "Basic network:"
   ]
  },
  {
   "cell_type": "code",
   "execution_count": 32,
   "id": "f7d3cc69",
   "metadata": {},
   "outputs": [
    {
     "name": "stderr",
     "output_type": "stream",
     "text": [
      "Values less than or equal to 0 in data. Throwing out 0 or negative values\n"
     ]
    },
    {
     "name": "stdout",
     "output_type": "stream",
     "text": [
      "Calculating best minimal value for power law fit\n",
      "gamma= 3.5540575561183405\n",
      "Calculating best minimal value for power law fit\n",
      "gamma= 3.446907590666666\n"
     ]
    },
    {
     "name": "stderr",
     "output_type": "stream",
     "text": [
      "Values less than or equal to 0 in data. Throwing out 0 or negative values\n"
     ]
    }
   ],
   "source": [
    "power_law_fit(DS_G_in)\n",
    "power_law_fit(DS_G_out)"
   ]
  },
  {
   "cell_type": "markdown",
   "id": "2618b5f0",
   "metadata": {},
   "source": [
    "The special events networks - in:"
   ]
  },
  {
   "cell_type": "code",
   "execution_count": 33,
   "id": "3a139505",
   "metadata": {},
   "outputs": [
    {
     "name": "stdout",
     "output_type": "stream",
     "text": [
      "Before event A network:\n",
      "Calculating best minimal value for power law fit\n",
      "xmin progress: 46%\r"
     ]
    },
    {
     "name": "stderr",
     "output_type": "stream",
     "text": [
      "Values less than or equal to 0 in data. Throwing out 0 or negative values\n",
      "Values less than or equal to 0 in data. Throwing out 0 or negative values\n"
     ]
    },
    {
     "name": "stdout",
     "output_type": "stream",
     "text": [
      "gamma= 2.3753347255033725\n",
      "After event A network:\n",
      "Calculating best minimal value for power law fit\n",
      "gamma= 2.3764298661415033\n",
      "\n",
      "Before event B network:\n"
     ]
    },
    {
     "name": "stderr",
     "output_type": "stream",
     "text": [
      "Values less than or equal to 0 in data. Throwing out 0 or negative values\n"
     ]
    },
    {
     "name": "stdout",
     "output_type": "stream",
     "text": [
      "Calculating best minimal value for power law fit\n",
      "xmin progress: 40%\r"
     ]
    },
    {
     "name": "stderr",
     "output_type": "stream",
     "text": [
      "Values less than or equal to 0 in data. Throwing out 0 or negative values\n",
      "Values less than or equal to 0 in data. Throwing out 0 or negative values\n",
      "Values less than or equal to 0 in data. Throwing out 0 or negative values\n"
     ]
    },
    {
     "name": "stdout",
     "output_type": "stream",
     "text": [
      "gamma= 2.3925220513095278\n",
      "After event B network:\n",
      "Calculating best minimal value for power law fit\n",
      "gamma= 3.5368077628280314\n",
      "\n",
      "Before event C network:\n",
      "Calculating best minimal value for power law fit\n",
      "gamma= 2.381435224190949\n",
      "After event C network:\n",
      "Calculating best minimal value for power law fit\n",
      "gamma= 3.482718789957848\n",
      "\n"
     ]
    }
   ],
   "source": [
    "for i in DS_G_events_in:\n",
    "    str_to_print = \"Before event \" + i + \" network:\"\n",
    "    print(str_to_print)\n",
    "    power_law_fit(DS_G_events_in[i][0])\n",
    "    str_to_print = \"After event \" + i + \" network:\"\n",
    "    print(str_to_print)\n",
    "    power_law_fit(DS_G_events_in[i][1])\n",
    "    print()"
   ]
  },
  {
   "cell_type": "code",
   "execution_count": 34,
   "id": "d67997b0",
   "metadata": {},
   "outputs": [
    {
     "name": "stdout",
     "output_type": "stream",
     "text": [
      "Before event A network:\n",
      "Calculating best minimal value for power law fit\n",
      "gamma= 3.5134937263280026\n",
      "After event A network:\n",
      "Calculating best minimal value for power law fit\n",
      "gamma= 3.5131011501746823\n",
      "\n",
      "Before event B network:\n",
      "Calculating best minimal value for power law fit\n",
      "xmin progress: 80%"
     ]
    },
    {
     "name": "stderr",
     "output_type": "stream",
     "text": [
      "Values less than or equal to 0 in data. Throwing out 0 or negative values\n",
      "Values less than or equal to 0 in data. Throwing out 0 or negative values\n",
      "Values less than or equal to 0 in data. Throwing out 0 or negative values\n",
      "Values less than or equal to 0 in data. Throwing out 0 or negative values\n",
      "Values less than or equal to 0 in data. Throwing out 0 or negative values\n",
      "Values less than or equal to 0 in data. Throwing out 0 or negative values\n"
     ]
    },
    {
     "name": "stdout",
     "output_type": "stream",
     "text": [
      "gamma= 3.478039085125584\n",
      "After event B network:\n",
      "Calculating best minimal value for power law fit\n",
      "gamma= 3.4778712164392824\n",
      "\n",
      "Before event C network:\n",
      "Calculating best minimal value for power law fit\n",
      "gamma= 3.4628631027450285\n",
      "After event C network:\n",
      "Calculating best minimal value for power law fit\n",
      "gamma= 3.462037812810196\n",
      "\n"
     ]
    }
   ],
   "source": [
    "for i in DS_G_events_out:\n",
    "    str_to_print = \"Before event \" + i + \" network:\"\n",
    "    print(str_to_print)\n",
    "    power_law_fit(DS_G_events_out[i][0])\n",
    "    str_to_print = \"After event \" + i + \" network:\"\n",
    "    print(str_to_print)\n",
    "    power_law_fit(DS_G_events_out[i][1])\n",
    "    print()"
   ]
  },
  {
   "cell_type": "markdown",
   "id": "894128ba",
   "metadata": {},
   "source": [
    "### Average Degree"
   ]
  },
  {
   "cell_type": "markdown",
   "id": "3110b558",
   "metadata": {},
   "source": [
    "Basic network:"
   ]
  },
  {
   "cell_type": "code",
   "execution_count": 35,
   "id": "922fbd19",
   "metadata": {},
   "outputs": [
    {
     "data": {
      "text/plain": [
       "52.067783199261505"
      ]
     },
     "execution_count": 35,
     "metadata": {},
     "output_type": "execute_result"
    }
   ],
   "source": [
    "2*G.number_of_edges() / float(G.number_of_nodes())"
   ]
  },
  {
   "cell_type": "markdown",
   "id": "b1affc2e",
   "metadata": {},
   "source": [
    "Special events networks:"
   ]
  },
  {
   "cell_type": "code",
   "execution_count": 36,
   "id": "582330cf",
   "metadata": {},
   "outputs": [
    {
     "name": "stdout",
     "output_type": "stream",
     "text": [
      "Before event A network:\n",
      "51.97319841378367\n",
      "After event A network:\n",
      "51.96719518862766\n",
      "\n",
      "Before event B network:\n",
      "51.95363256503572\n",
      "After event B network:\n",
      "51.93319865319865\n",
      "\n",
      "Before event C network:\n",
      "51.82567227447344\n",
      "After event C network:\n",
      "51.92038090199709\n",
      "\n"
     ]
    }
   ],
   "source": [
    "for i in G_events:\n",
    "    str_to_print = \"Before event \" + i + \" network:\"\n",
    "    print(str_to_print)\n",
    "    print(2*G_events[i][0].number_of_edges() / float(G_events[i][0].number_of_nodes()))\n",
    "    str_to_print = \"After event \" + i + \" network:\"\n",
    "    print(str_to_print)\n",
    "    print(2*G_events[i][1].number_of_edges() / float(G_events[i][1].number_of_nodes()))\n",
    "    print()"
   ]
  },
  {
   "cell_type": "code",
   "execution_count": 37,
   "id": "c154b42b",
   "metadata": {},
   "outputs": [
    {
     "data": {
      "text/plain": [
       "False"
      ]
     },
     "execution_count": 37,
     "metadata": {},
     "output_type": "execute_result"
    }
   ],
   "source": [
    "nx.is_weakly_connected(G)"
   ]
  },
  {
   "cell_type": "markdown",
   "id": "22ec13f4",
   "metadata": {},
   "source": [
    "## Networks Centrality Measures\n",
    "In this section, we want to answer our research quenstion by measuring the different centrality measures and understanding the meaning of the results."
   ]
  },
  {
   "cell_type": "markdown",
   "id": "a0ed8123",
   "metadata": {},
   "source": [
    "### The functions to calculate the measures:"
   ]
  },
  {
   "cell_type": "markdown",
   "id": "1a4b0071",
   "metadata": {},
   "source": [
    "#### Getting Top 5 Maximum Values"
   ]
  },
  {
   "cell_type": "code",
   "execution_count": 39,
   "id": "8b8c175e",
   "metadata": {},
   "outputs": [],
   "source": [
    "def top_five(A):\n",
    "    return sorted(A, key=A.get, reverse=True)[:5]"
   ]
  },
  {
   "cell_type": "markdown",
   "id": "edff118a",
   "metadata": {},
   "source": [
    "#### Degree Centrality"
   ]
  },
  {
   "cell_type": "code",
   "execution_count": 40,
   "id": "9ff2928d",
   "metadata": {},
   "outputs": [],
   "source": [
    "def degree_centrality(G):\n",
    "    return top_five(nx.degree_centrality(G))"
   ]
  },
  {
   "cell_type": "markdown",
   "id": "f46515cd",
   "metadata": {},
   "source": [
    "#### In Betweenness"
   ]
  },
  {
   "cell_type": "code",
   "execution_count": 41,
   "id": "491efcd6",
   "metadata": {},
   "outputs": [],
   "source": [
    "def betweenness(G):\n",
    "    return top_five(nx.betweenness_centrality(G))"
   ]
  },
  {
   "cell_type": "markdown",
   "id": "69697091",
   "metadata": {},
   "source": [
    "#### In-Degree Centrality"
   ]
  },
  {
   "cell_type": "code",
   "execution_count": 42,
   "id": "e318d0c5",
   "metadata": {},
   "outputs": [],
   "source": [
    "def in_degree (G):\n",
    "    return top_five(nx.in_degree_centrality(G))"
   ]
  },
  {
   "cell_type": "markdown",
   "id": "33f78152",
   "metadata": {},
   "source": [
    "#### Out-Degree Centrality"
   ]
  },
  {
   "cell_type": "code",
   "execution_count": 43,
   "id": "66d99913",
   "metadata": {},
   "outputs": [],
   "source": [
    "def out_degree(G):\n",
    "    return top_five(nx.out_degree_centrality(G))"
   ]
  },
  {
   "cell_type": "markdown",
   "id": "d15ec694",
   "metadata": {},
   "source": [
    "#### Closeness"
   ]
  },
  {
   "cell_type": "code",
   "execution_count": 44,
   "id": "c73e4b46",
   "metadata": {},
   "outputs": [],
   "source": [
    "def closeness(G):\n",
    "    return top_five(nx.closeness_centrality(G))"
   ]
  },
  {
   "cell_type": "markdown",
   "id": "f0951fb9",
   "metadata": {},
   "source": [
    "### The basic network"
   ]
  },
  {
   "cell_type": "markdown",
   "id": "e7c10d2a",
   "metadata": {},
   "source": [
    "#### Degree Centrelity"
   ]
  },
  {
   "cell_type": "code",
   "execution_count": 45,
   "id": "b43aad27",
   "metadata": {},
   "outputs": [
    {
     "data": {
      "text/plain": [
       "['Ukraine', 'Russian language', 'Poland', 'Ukrainian language', 'World War I']"
      ]
     },
     "execution_count": 45,
     "metadata": {},
     "output_type": "execute_result"
    }
   ],
   "source": [
    "degree_centrality(G)"
   ]
  },
  {
   "cell_type": "markdown",
   "id": "b3342da1",
   "metadata": {},
   "source": [
    "#### In Betweeness"
   ]
  },
  {
   "cell_type": "code",
   "execution_count": 46,
   "id": "b2b5eea5",
   "metadata": {},
   "outputs": [
    {
     "data": {
      "text/plain": [
       "['Ukraine', 'Poland', 'Vladimir Putin', 'Russian language', 'Russians']"
      ]
     },
     "execution_count": 46,
     "metadata": {},
     "output_type": "execute_result"
    }
   ],
   "source": [
    "betweenness(G)"
   ]
  },
  {
   "cell_type": "markdown",
   "id": "2a8d5517",
   "metadata": {},
   "source": [
    "#### In-Degree Centrality"
   ]
  },
  {
   "cell_type": "code",
   "execution_count": 47,
   "id": "84fb0f1a",
   "metadata": {},
   "outputs": [
    {
     "data": {
      "text/plain": [
       "['Russian language',\n",
       " 'Ukraine',\n",
       " 'Ukrainian language',\n",
       " 'World War I',\n",
       " 'United States']"
      ]
     },
     "execution_count": 47,
     "metadata": {},
     "output_type": "execute_result"
    }
   ],
   "source": [
    "in_degree(G)"
   ]
  },
  {
   "cell_type": "markdown",
   "id": "4c155264",
   "metadata": {},
   "source": [
    "#### Out-Degree Centrality"
   ]
  },
  {
   "cell_type": "code",
   "execution_count": 48,
   "id": "37eeb956",
   "metadata": {},
   "outputs": [
    {
     "data": {
      "text/plain": [
       "['Russian federation', 'Poland', 'Ukraine', 'Ukrainia', 'Soviet']"
      ]
     },
     "execution_count": 48,
     "metadata": {},
     "output_type": "execute_result"
    }
   ],
   "source": [
    "out_degree(G)"
   ]
  },
  {
   "cell_type": "markdown",
   "id": "e1a32ae0",
   "metadata": {},
   "source": [
    "#### Closeness"
   ]
  },
  {
   "cell_type": "code",
   "execution_count": 49,
   "id": "d83081fa",
   "metadata": {},
   "outputs": [
    {
     "data": {
      "text/plain": [
       "['Russian language', 'Ukraine', 'United States', 'World War I', 'Poland']"
      ]
     },
     "execution_count": 49,
     "metadata": {},
     "output_type": "execute_result"
    }
   ],
   "source": [
    "closeness(G)"
   ]
  },
  {
   "cell_type": "markdown",
   "id": "dc97fdce",
   "metadata": {},
   "source": [
    "### The Special Events Network"
   ]
  },
  {
   "cell_type": "markdown",
   "id": "56e3a71b",
   "metadata": {},
   "source": [
    "#### Degree Centrality"
   ]
  },
  {
   "cell_type": "code",
   "execution_count": 50,
   "id": "5bbfd4a4",
   "metadata": {},
   "outputs": [
    {
     "name": "stdout",
     "output_type": "stream",
     "text": [
      "The nodes with the most centrality before event A are: \n",
      "[1, 515, 904, 1183, 4]\n",
      "The nodes with the most centrality after event A  are: \n",
      "[1, 515, 904, 1183, 4]\n",
      "\n",
      "The nodes with the most centrality before event B are: \n",
      "[1, 515, 904, 1183, 4]\n",
      "The nodes with the most centrality after event B  are: \n",
      "[1, 515, 904, 1183, 4]\n",
      "\n",
      "The nodes with the most centrality before event C are: \n",
      "[1, 515, 904, 4, 1183]\n",
      "The nodes with the most centrality after event C  are: \n",
      "[1, 515, 904, 4, 1183]\n",
      "\n"
     ]
    }
   ],
   "source": [
    "for i in G_events:\n",
    "    str_to_print = \"The nodes with the most centrality before event \" + i + \" are: \"\n",
    "    print(str_to_print)\n",
    "    print(degree_centrality(G_events[i][0]))\n",
    "    str_to_print = \"The nodes with the most centrality after event \" + i + \"  are: \"\n",
    "    print(str_to_print)\n",
    "    print(degree_centrality(G_events[i][1]))\n",
    "    print()\n"
   ]
  },
  {
   "cell_type": "markdown",
   "id": "9c9c1bd0",
   "metadata": {},
   "source": [
    "Note: 1 represents Ukraine, 515 - Russian language, 904 - Poland, 4 - Ukrainian language, 1183 - World War I"
   ]
  },
  {
   "cell_type": "markdown",
   "id": "9c6453fc",
   "metadata": {},
   "source": [
    "#### In Betweeness"
   ]
  },
  {
   "cell_type": "code",
   "execution_count": 51,
   "id": "4ce7f590",
   "metadata": {},
   "outputs": [
    {
     "name": "stdout",
     "output_type": "stream",
     "text": [
      "The nodes with the most betweenness centrality before event A are: [1, 904, 515, 109, 1324]\n",
      "The nodes with the most betweenness centrality after event A are: [1, 904, 515, 109, 1324]\n",
      "\n",
      "The nodes with the most betweenness centrality before event B are: [1, 904, 515, 109, 1324]\n",
      "The nodes with the most betweenness centrality after event B are: [1, 904, 515, 109, 1324]\n",
      "\n",
      "The nodes with the most betweenness centrality before event C are: [1, 904, 109, 515, 1324]\n",
      "The nodes with the most betweenness centrality after event C are: [1, 904, 109, 515, 1324]\n",
      "\n"
     ]
    }
   ],
   "source": [
    "for i in G_events:\n",
    "    str_to_print = \"The nodes with the most betweenness centrality before event \" + i + \" are: \"\n",
    "    print(str_to_print + str(betweenness(G_events[i][0])))\n",
    "    str_to_print = \"The nodes with the most betweenness centrality after event \" + i + \" are: \"\n",
    "    print(str_to_print + str(betweenness(G_events[i][1])))\n",
    "    print()"
   ]
  },
  {
   "cell_type": "markdown",
   "id": "6342eebc",
   "metadata": {},
   "source": [
    "Note: Every event exept the war in 2022: Ukraine, Poland, Russian Language, Vladimir Putin, Russians.\n",
    "The war: Ukraine, Poland, Vladimir Putin, Russian Language, Russians."
   ]
  },
  {
   "cell_type": "markdown",
   "id": "e200459d",
   "metadata": {},
   "source": [
    "#### In-Degree Centrality"
   ]
  },
  {
   "cell_type": "code",
   "execution_count": 52,
   "id": "ed24f99e",
   "metadata": {},
   "outputs": [
    {
     "name": "stdout",
     "output_type": "stream",
     "text": [
      "The nodes with the most in-degree centrality before event A are: [515, 1, 4, 1183, 4363]\n",
      "The nodes with the most in-degree centrality after event A are: [515, 1, 4, 1183, 4363]\n",
      "\n",
      "The nodes with the most in-degree centrality before event B are: [515, 1, 4, 1183, 4363]\n",
      "The nodes with the most in-degree centrality after event B are: [515, 1, 4, 1183, 4363]\n",
      "\n",
      "The nodes with the most in-degree centrality before event C are: [515, 1, 4, 1183, 4363]\n",
      "The nodes with the most in-degree centrality after event C are: [515, 1, 4, 1183, 4363]\n",
      "\n"
     ]
    }
   ],
   "source": [
    "for i in G_events:\n",
    "    str_to_print = \"The nodes with the most in-degree centrality before event \" + i + \" are: \"\n",
    "    print(str_to_print + str(in_degree(G_events[i][0])))\n",
    "    str_to_print = \"The nodes with the most in-degree centrality after event \" + i + \" are: \"\n",
    "    print(str_to_print + str(in_degree(G_events[i][1])))\n",
    "    print()"
   ]
  },
  {
   "cell_type": "markdown",
   "id": "d4c33b8c",
   "metadata": {},
   "source": [
    "Note: Russian language, Ukraine, Ukrainian language, World War I, United States."
   ]
  },
  {
   "cell_type": "markdown",
   "id": "e6b99ebe",
   "metadata": {},
   "source": [
    "#### Out-Degree Centrality"
   ]
  },
  {
   "cell_type": "code",
   "execution_count": 53,
   "id": "0f317c33",
   "metadata": {},
   "outputs": [
    {
     "name": "stdout",
     "output_type": "stream",
     "text": [
      "The nodes with the most out-degree centrality before event A are: [563, 904, 1, 0, 282]\n",
      "The nodes with the most out-degree centrality after event A are: [563, 904, 1, 0, 282]\n",
      "\n",
      "The nodes with the most out-degree centrality before event B are: [563, 904, 1, 0, 282]\n",
      "The nodes with the most out-degree centrality after event B are: [563, 904, 1, 0, 282]\n",
      "\n",
      "The nodes with the most out-degree centrality before event C are: [563, 904, 1, 0, 282]\n",
      "The nodes with the most out-degree centrality after event C are: [563, 904, 1, 0, 282]\n",
      "\n"
     ]
    }
   ],
   "source": [
    "for i in G_events:\n",
    "    str_to_print = \"The nodes with the most out-degree centrality before event \" + i + \" are: \"\n",
    "    print(str_to_print + str(out_degree(G_events[i][0])))\n",
    "    str_to_print = \"The nodes with the most out-degree centrality after event \" + i + \" are: \"\n",
    "    print(str_to_print + str(out_degree(G_events[i][1])))\n",
    "    print()"
   ]
  },
  {
   "cell_type": "markdown",
   "id": "51ef5bb7",
   "metadata": {},
   "source": [
    "Note: Russian Federaion, Poland, 1 and 0 are Ukraine, Soviet."
   ]
  },
  {
   "cell_type": "markdown",
   "id": "5af6ee73",
   "metadata": {},
   "source": [
    "#### Closeness"
   ]
  },
  {
   "cell_type": "code",
   "execution_count": 54,
   "id": "4760cda4",
   "metadata": {},
   "outputs": [
    {
     "name": "stdout",
     "output_type": "stream",
     "text": [
      "The nodes with the most closeness centrality before event A are: [515, 1, 4363, 1183, 904]\n",
      "The nodes with the most closeness centrality after event A are: [515, 1, 4363, 1183, 904]\n",
      "\n",
      "The nodes with the most closeness centrality before event B are: [515, 1, 4363, 1183, 904]\n",
      "The nodes with the most closeness centrality after event B are: [515, 1, 4363, 1183, 904]\n",
      "\n",
      "The nodes with the most closeness centrality before event C are: [515, 1, 4363, 1183, 904]\n",
      "The nodes with the most closeness centrality after event C are: [515, 1, 4363, 1183, 904]\n",
      "\n"
     ]
    }
   ],
   "source": [
    "for i in G_events:\n",
    "    str_to_print = \"The nodes with the most closeness centrality before event \" + i + \" are: \"\n",
    "    print(str_to_print + str(closeness(G_events[i][0])))\n",
    "    str_to_print = \"The nodes with the most closeness centrality after event \" + i + \" are: \"\n",
    "    print(str_to_print + str(closeness(G_events[i][1])))\n",
    "    print()"
   ]
  },
  {
   "cell_type": "markdown",
   "id": "92a6f285",
   "metadata": {},
   "source": [
    "Note: Russian Language, Ukraine, United States, World War I, Poland."
   ]
  }
 ],
 "metadata": {
  "interpreter": {
   "hash": "c39a25059b35fbb5772bfe03bb6a8fd01f1555b924b3683037b7bea84769da4f"
  },
  "kernelspec": {
   "display_name": "Python 3.7.3 ('venv': venv)",
   "language": "python",
   "name": "python3"
  },
  "language_info": {
   "codemirror_mode": {
    "name": "ipython",
    "version": 3
   },
   "file_extension": ".py",
   "mimetype": "text/x-python",
   "name": "python",
   "nbconvert_exporter": "python",
   "pygments_lexer": "ipython3",
   "version": "3.7.3"
  }
 },
 "nbformat": 4,
 "nbformat_minor": 5
}
